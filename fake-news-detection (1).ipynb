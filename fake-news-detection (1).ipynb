{
 "cells": [
  {
   "cell_type": "code",
   "execution_count": 1,
   "id": "277b030c",
   "metadata": {
    "_cell_guid": "b1076dfc-b9ad-4769-8c92-a6c4dae69d19",
    "_uuid": "8f2839f25d086af736a60e9eeb907d3b93b6e0e5",
    "execution": {
     "iopub.execute_input": "2024-05-17T10:08:09.760247Z",
     "iopub.status.busy": "2024-05-17T10:08:09.759857Z",
     "iopub.status.idle": "2024-05-17T10:08:10.871757Z",
     "shell.execute_reply": "2024-05-17T10:08:10.870310Z"
    },
    "papermill": {
     "duration": 1.128851,
     "end_time": "2024-05-17T10:08:10.874281",
     "exception": false,
     "start_time": "2024-05-17T10:08:09.745430",
     "status": "completed"
    },
    "tags": []
   },
   "outputs": [
    {
     "name": "stdout",
     "output_type": "stream",
     "text": [
      "/kaggle/input/fake-and-real-news-dataset/True.csv\n",
      "/kaggle/input/fake-and-real-news-dataset/Fake.csv\n"
     ]
    }
   ],
   "source": [
    "# This Python 3 environment comes with many helpful analytics libraries installed\n",
    "# It is defined by the kaggle/python Docker image: https://github.com/kaggle/docker-python\n",
    "# For example, here's several helpful packages to load\n",
    "\n",
    "import numpy as np # linear algebra\n",
    "import pandas as pd # data processing, CSV file I/O (e.g. pd.read_csv)\n",
    "\n",
    "# Input data files are available in the read-only \"../input/\" directory\n",
    "# For example, running this (by clicking run or pressing Shift+Enter) will list all files under the input directory\n",
    "\n",
    "import os\n",
    "for dirname, _, filenames in os.walk('/kaggle/input'):\n",
    "    for filename in filenames:\n",
    "        print(os.path.join(dirname, filename))\n",
    "\n",
    "# You can write up to 20GB to the current directory (/kaggle/working/) that gets preserved as output when you create a version using \"Save & Run All\" \n",
    "# You can also write temporary files to /kaggle/temp/, but they won't be saved outside of the current session"
   ]
  },
  {
   "cell_type": "code",
   "execution_count": 2,
   "id": "8a96df6d",
   "metadata": {
    "execution": {
     "iopub.execute_input": "2024-05-17T10:08:10.901081Z",
     "iopub.status.busy": "2024-05-17T10:08:10.900530Z",
     "iopub.status.idle": "2024-05-17T10:08:12.837327Z",
     "shell.execute_reply": "2024-05-17T10:08:12.836106Z"
    },
    "papermill": {
     "duration": 1.953454,
     "end_time": "2024-05-17T10:08:12.840179",
     "exception": false,
     "start_time": "2024-05-17T10:08:10.886725",
     "status": "completed"
    },
    "tags": []
   },
   "outputs": [],
   "source": [
    "import pandas as pd\n",
    "import numpy as np\n",
    "import seaborn as sns\n",
    "import matplotlib.pyplot as plt\n",
    "from sklearn.model_selection import train_test_split\n",
    "from sklearn.metrics import accuracy_score\n",
    "from sklearn.metrics import classification_report\n",
    "import re\n",
    "import string"
   ]
  },
  {
   "cell_type": "code",
   "execution_count": 3,
   "id": "8d7307c8",
   "metadata": {
    "execution": {
     "iopub.execute_input": "2024-05-17T10:08:12.870214Z",
     "iopub.status.busy": "2024-05-17T10:08:12.869781Z",
     "iopub.status.idle": "2024-05-17T10:08:14.393273Z",
     "shell.execute_reply": "2024-05-17T10:08:14.392051Z"
    },
    "papermill": {
     "duration": 1.541116,
     "end_time": "2024-05-17T10:08:14.396010",
     "exception": false,
     "start_time": "2024-05-17T10:08:12.854894",
     "status": "completed"
    },
    "tags": []
   },
   "outputs": [
    {
     "data": {
      "text/html": [
       "<div>\n",
       "<style scoped>\n",
       "    .dataframe tbody tr th:only-of-type {\n",
       "        vertical-align: middle;\n",
       "    }\n",
       "\n",
       "    .dataframe tbody tr th {\n",
       "        vertical-align: top;\n",
       "    }\n",
       "\n",
       "    .dataframe thead th {\n",
       "        text-align: right;\n",
       "    }\n",
       "</style>\n",
       "<table border=\"1\" class=\"dataframe\">\n",
       "  <thead>\n",
       "    <tr style=\"text-align: right;\">\n",
       "      <th></th>\n",
       "      <th>title</th>\n",
       "      <th>text</th>\n",
       "      <th>subject</th>\n",
       "      <th>date</th>\n",
       "    </tr>\n",
       "  </thead>\n",
       "  <tbody>\n",
       "    <tr>\n",
       "      <th>0</th>\n",
       "      <td>As U.S. budget fight looms, Republicans flip t...</td>\n",
       "      <td>WASHINGTON (Reuters) - The head of a conservat...</td>\n",
       "      <td>politicsNews</td>\n",
       "      <td>December 31, 2017</td>\n",
       "    </tr>\n",
       "    <tr>\n",
       "      <th>1</th>\n",
       "      <td>U.S. military to accept transgender recruits o...</td>\n",
       "      <td>WASHINGTON (Reuters) - Transgender people will...</td>\n",
       "      <td>politicsNews</td>\n",
       "      <td>December 29, 2017</td>\n",
       "    </tr>\n",
       "    <tr>\n",
       "      <th>2</th>\n",
       "      <td>Senior U.S. Republican senator: 'Let Mr. Muell...</td>\n",
       "      <td>WASHINGTON (Reuters) - The special counsel inv...</td>\n",
       "      <td>politicsNews</td>\n",
       "      <td>December 31, 2017</td>\n",
       "    </tr>\n",
       "    <tr>\n",
       "      <th>3</th>\n",
       "      <td>FBI Russia probe helped by Australian diplomat...</td>\n",
       "      <td>WASHINGTON (Reuters) - Trump campaign adviser ...</td>\n",
       "      <td>politicsNews</td>\n",
       "      <td>December 30, 2017</td>\n",
       "    </tr>\n",
       "    <tr>\n",
       "      <th>4</th>\n",
       "      <td>Trump wants Postal Service to charge 'much mor...</td>\n",
       "      <td>SEATTLE/WASHINGTON (Reuters) - President Donal...</td>\n",
       "      <td>politicsNews</td>\n",
       "      <td>December 29, 2017</td>\n",
       "    </tr>\n",
       "  </tbody>\n",
       "</table>\n",
       "</div>"
      ],
      "text/plain": [
       "                                               title  \\\n",
       "0  As U.S. budget fight looms, Republicans flip t...   \n",
       "1  U.S. military to accept transgender recruits o...   \n",
       "2  Senior U.S. Republican senator: 'Let Mr. Muell...   \n",
       "3  FBI Russia probe helped by Australian diplomat...   \n",
       "4  Trump wants Postal Service to charge 'much mor...   \n",
       "\n",
       "                                                text       subject  \\\n",
       "0  WASHINGTON (Reuters) - The head of a conservat...  politicsNews   \n",
       "1  WASHINGTON (Reuters) - Transgender people will...  politicsNews   \n",
       "2  WASHINGTON (Reuters) - The special counsel inv...  politicsNews   \n",
       "3  WASHINGTON (Reuters) - Trump campaign adviser ...  politicsNews   \n",
       "4  SEATTLE/WASHINGTON (Reuters) - President Donal...  politicsNews   \n",
       "\n",
       "                 date  \n",
       "0  December 31, 2017   \n",
       "1  December 29, 2017   \n",
       "2  December 31, 2017   \n",
       "3  December 30, 2017   \n",
       "4  December 29, 2017   "
      ]
     },
     "execution_count": 3,
     "metadata": {},
     "output_type": "execute_result"
    }
   ],
   "source": [
    "true_df = pd.read_csv('/kaggle/input/fake-and-real-news-dataset/True.csv')\n",
    "true_df.head()"
   ]
  },
  {
   "cell_type": "code",
   "execution_count": 4,
   "id": "8b9a74fc",
   "metadata": {
    "execution": {
     "iopub.execute_input": "2024-05-17T10:08:14.423196Z",
     "iopub.status.busy": "2024-05-17T10:08:14.422738Z",
     "iopub.status.idle": "2024-05-17T10:08:15.959252Z",
     "shell.execute_reply": "2024-05-17T10:08:15.956676Z"
    },
    "papermill": {
     "duration": 1.558449,
     "end_time": "2024-05-17T10:08:15.966914",
     "exception": false,
     "start_time": "2024-05-17T10:08:14.408465",
     "status": "completed"
    },
    "tags": []
   },
   "outputs": [
    {
     "data": {
      "text/html": [
       "<div>\n",
       "<style scoped>\n",
       "    .dataframe tbody tr th:only-of-type {\n",
       "        vertical-align: middle;\n",
       "    }\n",
       "\n",
       "    .dataframe tbody tr th {\n",
       "        vertical-align: top;\n",
       "    }\n",
       "\n",
       "    .dataframe thead th {\n",
       "        text-align: right;\n",
       "    }\n",
       "</style>\n",
       "<table border=\"1\" class=\"dataframe\">\n",
       "  <thead>\n",
       "    <tr style=\"text-align: right;\">\n",
       "      <th></th>\n",
       "      <th>title</th>\n",
       "      <th>text</th>\n",
       "      <th>subject</th>\n",
       "      <th>date</th>\n",
       "    </tr>\n",
       "  </thead>\n",
       "  <tbody>\n",
       "    <tr>\n",
       "      <th>0</th>\n",
       "      <td>Donald Trump Sends Out Embarrassing New Year’...</td>\n",
       "      <td>Donald Trump just couldn t wish all Americans ...</td>\n",
       "      <td>News</td>\n",
       "      <td>December 31, 2017</td>\n",
       "    </tr>\n",
       "    <tr>\n",
       "      <th>1</th>\n",
       "      <td>Drunk Bragging Trump Staffer Started Russian ...</td>\n",
       "      <td>House Intelligence Committee Chairman Devin Nu...</td>\n",
       "      <td>News</td>\n",
       "      <td>December 31, 2017</td>\n",
       "    </tr>\n",
       "    <tr>\n",
       "      <th>2</th>\n",
       "      <td>Sheriff David Clarke Becomes An Internet Joke...</td>\n",
       "      <td>On Friday, it was revealed that former Milwauk...</td>\n",
       "      <td>News</td>\n",
       "      <td>December 30, 2017</td>\n",
       "    </tr>\n",
       "    <tr>\n",
       "      <th>3</th>\n",
       "      <td>Trump Is So Obsessed He Even Has Obama’s Name...</td>\n",
       "      <td>On Christmas day, Donald Trump announced that ...</td>\n",
       "      <td>News</td>\n",
       "      <td>December 29, 2017</td>\n",
       "    </tr>\n",
       "    <tr>\n",
       "      <th>4</th>\n",
       "      <td>Pope Francis Just Called Out Donald Trump Dur...</td>\n",
       "      <td>Pope Francis used his annual Christmas Day mes...</td>\n",
       "      <td>News</td>\n",
       "      <td>December 25, 2017</td>\n",
       "    </tr>\n",
       "  </tbody>\n",
       "</table>\n",
       "</div>"
      ],
      "text/plain": [
       "                                               title  \\\n",
       "0   Donald Trump Sends Out Embarrassing New Year’...   \n",
       "1   Drunk Bragging Trump Staffer Started Russian ...   \n",
       "2   Sheriff David Clarke Becomes An Internet Joke...   \n",
       "3   Trump Is So Obsessed He Even Has Obama’s Name...   \n",
       "4   Pope Francis Just Called Out Donald Trump Dur...   \n",
       "\n",
       "                                                text subject  \\\n",
       "0  Donald Trump just couldn t wish all Americans ...    News   \n",
       "1  House Intelligence Committee Chairman Devin Nu...    News   \n",
       "2  On Friday, it was revealed that former Milwauk...    News   \n",
       "3  On Christmas day, Donald Trump announced that ...    News   \n",
       "4  Pope Francis used his annual Christmas Day mes...    News   \n",
       "\n",
       "                date  \n",
       "0  December 31, 2017  \n",
       "1  December 31, 2017  \n",
       "2  December 30, 2017  \n",
       "3  December 29, 2017  \n",
       "4  December 25, 2017  "
      ]
     },
     "execution_count": 4,
     "metadata": {},
     "output_type": "execute_result"
    }
   ],
   "source": [
    "fake_df = pd.read_csv('/kaggle/input/fake-and-real-news-dataset/Fake.csv')\n",
    "fake_df.head()"
   ]
  },
  {
   "cell_type": "code",
   "execution_count": 5,
   "id": "1e0d9129",
   "metadata": {
    "execution": {
     "iopub.execute_input": "2024-05-17T10:08:16.001474Z",
     "iopub.status.busy": "2024-05-17T10:08:16.001058Z",
     "iopub.status.idle": "2024-05-17T10:08:16.009237Z",
     "shell.execute_reply": "2024-05-17T10:08:16.006461Z"
    },
    "papermill": {
     "duration": 0.028438,
     "end_time": "2024-05-17T10:08:16.013503",
     "exception": false,
     "start_time": "2024-05-17T10:08:15.985065",
     "status": "completed"
    },
    "tags": []
   },
   "outputs": [
    {
     "name": "stdout",
     "output_type": "stream",
     "text": [
      "true shape :  (21417, 4)\n",
      "fake shape :  (23481, 4)\n"
     ]
    }
   ],
   "source": [
    "print(\"true shape : \",true_df.shape)\n",
    "print(\"fake shape : \",fake_df.shape)"
   ]
  },
  {
   "cell_type": "markdown",
   "id": "35abbc64",
   "metadata": {
    "papermill": {
     "duration": 0.015114,
     "end_time": "2024-05-17T10:08:16.043325",
     "exception": false,
     "start_time": "2024-05-17T10:08:16.028211",
     "status": "completed"
    },
    "tags": []
   },
   "source": [
    "#### Add the column **label**   as target feature"
   ]
  },
  {
   "cell_type": "code",
   "execution_count": 6,
   "id": "cc545850",
   "metadata": {
    "execution": {
     "iopub.execute_input": "2024-05-17T10:08:16.075028Z",
     "iopub.status.busy": "2024-05-17T10:08:16.074622Z",
     "iopub.status.idle": "2024-05-17T10:08:16.083484Z",
     "shell.execute_reply": "2024-05-17T10:08:16.081800Z"
    },
    "papermill": {
     "duration": 0.0291,
     "end_time": "2024-05-17T10:08:16.087234",
     "exception": false,
     "start_time": "2024-05-17T10:08:16.058134",
     "status": "completed"
    },
    "tags": []
   },
   "outputs": [],
   "source": [
    "true_df['label'] = 1\n",
    "fake_df['label'] = 0"
   ]
  },
  {
   "cell_type": "code",
   "execution_count": 7,
   "id": "5ade6eb8",
   "metadata": {
    "execution": {
     "iopub.execute_input": "2024-05-17T10:08:16.121131Z",
     "iopub.status.busy": "2024-05-17T10:08:16.120261Z",
     "iopub.status.idle": "2024-05-17T10:08:16.129286Z",
     "shell.execute_reply": "2024-05-17T10:08:16.125640Z"
    },
    "papermill": {
     "duration": 0.029172,
     "end_time": "2024-05-17T10:08:16.132653",
     "exception": false,
     "start_time": "2024-05-17T10:08:16.103481",
     "status": "completed"
    },
    "tags": []
   },
   "outputs": [
    {
     "name": "stdout",
     "output_type": "stream",
     "text": [
      "true shape :  (21417, 5)\n",
      "fake shape :  (23481, 5)\n"
     ]
    }
   ],
   "source": [
    "print(\"true shape : \",true_df.shape)\n",
    "print(\"fake shape : \",fake_df.shape)"
   ]
  },
  {
   "cell_type": "code",
   "execution_count": 8,
   "id": "166e3a4a",
   "metadata": {
    "execution": {
     "iopub.execute_input": "2024-05-17T10:08:16.164725Z",
     "iopub.status.busy": "2024-05-17T10:08:16.163960Z",
     "iopub.status.idle": "2024-05-17T10:08:16.258866Z",
     "shell.execute_reply": "2024-05-17T10:08:16.257434Z"
    },
    "papermill": {
     "duration": 0.115841,
     "end_time": "2024-05-17T10:08:16.261983",
     "exception": false,
     "start_time": "2024-05-17T10:08:16.146142",
     "status": "completed"
    },
    "tags": []
   },
   "outputs": [],
   "source": [
    "# Removing last 10 rows for manual testing\n",
    "df_fake_manual_testing = fake_df.tail(10)\n",
    "for i in range(23480,23470,-1):\n",
    "    fake_df.drop([i], axis = 0, inplace = True)\n",
    "    \n",
    "    \n",
    "df_true_manual_testing = true_df.tail(10)\n",
    "for i in range(21416,21406,-1):\n",
    "    true_df.drop([i], axis = 0, inplace = True)"
   ]
  },
  {
   "cell_type": "code",
   "execution_count": 9,
   "id": "861ff332",
   "metadata": {
    "execution": {
     "iopub.execute_input": "2024-05-17T10:08:16.291776Z",
     "iopub.status.busy": "2024-05-17T10:08:16.291325Z",
     "iopub.status.idle": "2024-05-17T10:08:16.296813Z",
     "shell.execute_reply": "2024-05-17T10:08:16.295728Z"
    },
    "papermill": {
     "duration": 0.022513,
     "end_time": "2024-05-17T10:08:16.299310",
     "exception": false,
     "start_time": "2024-05-17T10:08:16.276797",
     "status": "completed"
    },
    "tags": []
   },
   "outputs": [],
   "source": [
    "import warnings\n",
    "warnings.filterwarnings(\"ignore\")"
   ]
  },
  {
   "cell_type": "code",
   "execution_count": 10,
   "id": "2b13f3dc",
   "metadata": {
    "execution": {
     "iopub.execute_input": "2024-05-17T10:08:16.329815Z",
     "iopub.status.busy": "2024-05-17T10:08:16.328829Z",
     "iopub.status.idle": "2024-05-17T10:08:16.335314Z",
     "shell.execute_reply": "2024-05-17T10:08:16.334182Z"
    },
    "papermill": {
     "duration": 0.024685,
     "end_time": "2024-05-17T10:08:16.337944",
     "exception": false,
     "start_time": "2024-05-17T10:08:16.313259",
     "status": "completed"
    },
    "tags": []
   },
   "outputs": [],
   "source": [
    "df_fake_manual_testing[\"label\"] = 0\n",
    "df_true_manual_testing[\"label\"] = 1"
   ]
  },
  {
   "cell_type": "code",
   "execution_count": 11,
   "id": "c97611ea",
   "metadata": {
    "execution": {
     "iopub.execute_input": "2024-05-17T10:08:16.370251Z",
     "iopub.status.busy": "2024-05-17T10:08:16.368547Z",
     "iopub.status.idle": "2024-05-17T10:08:16.384575Z",
     "shell.execute_reply": "2024-05-17T10:08:16.382407Z"
    },
    "papermill": {
     "duration": 0.035072,
     "end_time": "2024-05-17T10:08:16.388106",
     "exception": false,
     "start_time": "2024-05-17T10:08:16.353034",
     "status": "completed"
    },
    "tags": []
   },
   "outputs": [
    {
     "data": {
      "text/html": [
       "<div>\n",
       "<style scoped>\n",
       "    .dataframe tbody tr th:only-of-type {\n",
       "        vertical-align: middle;\n",
       "    }\n",
       "\n",
       "    .dataframe tbody tr th {\n",
       "        vertical-align: top;\n",
       "    }\n",
       "\n",
       "    .dataframe thead th {\n",
       "        text-align: right;\n",
       "    }\n",
       "</style>\n",
       "<table border=\"1\" class=\"dataframe\">\n",
       "  <thead>\n",
       "    <tr style=\"text-align: right;\">\n",
       "      <th></th>\n",
       "      <th>title</th>\n",
       "      <th>text</th>\n",
       "      <th>subject</th>\n",
       "      <th>date</th>\n",
       "      <th>label</th>\n",
       "    </tr>\n",
       "  </thead>\n",
       "  <tbody>\n",
       "    <tr>\n",
       "      <th>23471</th>\n",
       "      <td>Seven Iranians freed in the prisoner swap have...</td>\n",
       "      <td>21st Century Wire says This week, the historic...</td>\n",
       "      <td>Middle-east</td>\n",
       "      <td>January 20, 2016</td>\n",
       "      <td>0</td>\n",
       "    </tr>\n",
       "    <tr>\n",
       "      <th>23472</th>\n",
       "      <td>#Hashtag Hell &amp; The Fake Left</td>\n",
       "      <td>By Dady Chery and Gilbert MercierAll writers ...</td>\n",
       "      <td>Middle-east</td>\n",
       "      <td>January 19, 2016</td>\n",
       "      <td>0</td>\n",
       "    </tr>\n",
       "    <tr>\n",
       "      <th>23473</th>\n",
       "      <td>Astroturfing: Journalist Reveals Brainwashing ...</td>\n",
       "      <td>Vic Bishop Waking TimesOur reality is carefull...</td>\n",
       "      <td>Middle-east</td>\n",
       "      <td>January 19, 2016</td>\n",
       "      <td>0</td>\n",
       "    </tr>\n",
       "    <tr>\n",
       "      <th>23474</th>\n",
       "      <td>The New American Century: An Era of Fraud</td>\n",
       "      <td>Paul Craig RobertsIn the last years of the 20t...</td>\n",
       "      <td>Middle-east</td>\n",
       "      <td>January 19, 2016</td>\n",
       "      <td>0</td>\n",
       "    </tr>\n",
       "    <tr>\n",
       "      <th>23475</th>\n",
       "      <td>Hillary Clinton: ‘Israel First’ (and no peace ...</td>\n",
       "      <td>Robert Fantina CounterpunchAlthough the United...</td>\n",
       "      <td>Middle-east</td>\n",
       "      <td>January 18, 2016</td>\n",
       "      <td>0</td>\n",
       "    </tr>\n",
       "    <tr>\n",
       "      <th>23476</th>\n",
       "      <td>McPain: John McCain Furious That Iran Treated ...</td>\n",
       "      <td>21st Century Wire says As 21WIRE reported earl...</td>\n",
       "      <td>Middle-east</td>\n",
       "      <td>January 16, 2016</td>\n",
       "      <td>0</td>\n",
       "    </tr>\n",
       "    <tr>\n",
       "      <th>23477</th>\n",
       "      <td>JUSTICE? Yahoo Settles E-mail Privacy Class-ac...</td>\n",
       "      <td>21st Century Wire says It s a familiar theme. ...</td>\n",
       "      <td>Middle-east</td>\n",
       "      <td>January 16, 2016</td>\n",
       "      <td>0</td>\n",
       "    </tr>\n",
       "    <tr>\n",
       "      <th>23478</th>\n",
       "      <td>Sunnistan: US and Allied ‘Safe Zone’ Plan to T...</td>\n",
       "      <td>Patrick Henningsen  21st Century WireRemember ...</td>\n",
       "      <td>Middle-east</td>\n",
       "      <td>January 15, 2016</td>\n",
       "      <td>0</td>\n",
       "    </tr>\n",
       "    <tr>\n",
       "      <th>23479</th>\n",
       "      <td>How to Blow $700 Million: Al Jazeera America F...</td>\n",
       "      <td>21st Century Wire says Al Jazeera America will...</td>\n",
       "      <td>Middle-east</td>\n",
       "      <td>January 14, 2016</td>\n",
       "      <td>0</td>\n",
       "    </tr>\n",
       "    <tr>\n",
       "      <th>23480</th>\n",
       "      <td>10 U.S. Navy Sailors Held by Iranian Military ...</td>\n",
       "      <td>21st Century Wire says As 21WIRE predicted in ...</td>\n",
       "      <td>Middle-east</td>\n",
       "      <td>January 12, 2016</td>\n",
       "      <td>0</td>\n",
       "    </tr>\n",
       "  </tbody>\n",
       "</table>\n",
       "</div>"
      ],
      "text/plain": [
       "                                                   title  \\\n",
       "23471  Seven Iranians freed in the prisoner swap have...   \n",
       "23472                      #Hashtag Hell & The Fake Left   \n",
       "23473  Astroturfing: Journalist Reveals Brainwashing ...   \n",
       "23474          The New American Century: An Era of Fraud   \n",
       "23475  Hillary Clinton: ‘Israel First’ (and no peace ...   \n",
       "23476  McPain: John McCain Furious That Iran Treated ...   \n",
       "23477  JUSTICE? Yahoo Settles E-mail Privacy Class-ac...   \n",
       "23478  Sunnistan: US and Allied ‘Safe Zone’ Plan to T...   \n",
       "23479  How to Blow $700 Million: Al Jazeera America F...   \n",
       "23480  10 U.S. Navy Sailors Held by Iranian Military ...   \n",
       "\n",
       "                                                    text      subject  \\\n",
       "23471  21st Century Wire says This week, the historic...  Middle-east   \n",
       "23472   By Dady Chery and Gilbert MercierAll writers ...  Middle-east   \n",
       "23473  Vic Bishop Waking TimesOur reality is carefull...  Middle-east   \n",
       "23474  Paul Craig RobertsIn the last years of the 20t...  Middle-east   \n",
       "23475  Robert Fantina CounterpunchAlthough the United...  Middle-east   \n",
       "23476  21st Century Wire says As 21WIRE reported earl...  Middle-east   \n",
       "23477  21st Century Wire says It s a familiar theme. ...  Middle-east   \n",
       "23478  Patrick Henningsen  21st Century WireRemember ...  Middle-east   \n",
       "23479  21st Century Wire says Al Jazeera America will...  Middle-east   \n",
       "23480  21st Century Wire says As 21WIRE predicted in ...  Middle-east   \n",
       "\n",
       "                   date  label  \n",
       "23471  January 20, 2016      0  \n",
       "23472  January 19, 2016      0  \n",
       "23473  January 19, 2016      0  \n",
       "23474  January 19, 2016      0  \n",
       "23475  January 18, 2016      0  \n",
       "23476  January 16, 2016      0  \n",
       "23477  January 16, 2016      0  \n",
       "23478  January 15, 2016      0  \n",
       "23479  January 14, 2016      0  \n",
       "23480  January 12, 2016      0  "
      ]
     },
     "execution_count": 11,
     "metadata": {},
     "output_type": "execute_result"
    }
   ],
   "source": [
    "df_fake_manual_testing.head(10)\n"
   ]
  },
  {
   "cell_type": "code",
   "execution_count": 12,
   "id": "13522c16",
   "metadata": {
    "execution": {
     "iopub.execute_input": "2024-05-17T10:08:16.418949Z",
     "iopub.status.busy": "2024-05-17T10:08:16.418355Z",
     "iopub.status.idle": "2024-05-17T10:08:16.434104Z",
     "shell.execute_reply": "2024-05-17T10:08:16.432744Z"
    },
    "papermill": {
     "duration": 0.033146,
     "end_time": "2024-05-17T10:08:16.436593",
     "exception": false,
     "start_time": "2024-05-17T10:08:16.403447",
     "status": "completed"
    },
    "tags": []
   },
   "outputs": [
    {
     "data": {
      "text/html": [
       "<div>\n",
       "<style scoped>\n",
       "    .dataframe tbody tr th:only-of-type {\n",
       "        vertical-align: middle;\n",
       "    }\n",
       "\n",
       "    .dataframe tbody tr th {\n",
       "        vertical-align: top;\n",
       "    }\n",
       "\n",
       "    .dataframe thead th {\n",
       "        text-align: right;\n",
       "    }\n",
       "</style>\n",
       "<table border=\"1\" class=\"dataframe\">\n",
       "  <thead>\n",
       "    <tr style=\"text-align: right;\">\n",
       "      <th></th>\n",
       "      <th>title</th>\n",
       "      <th>text</th>\n",
       "      <th>subject</th>\n",
       "      <th>date</th>\n",
       "      <th>label</th>\n",
       "    </tr>\n",
       "  </thead>\n",
       "  <tbody>\n",
       "    <tr>\n",
       "      <th>21407</th>\n",
       "      <td>Mata Pires, owner of embattled Brazil builder ...</td>\n",
       "      <td>SAO PAULO (Reuters) - Cesar Mata Pires, the ow...</td>\n",
       "      <td>worldnews</td>\n",
       "      <td>August 22, 2017</td>\n",
       "      <td>1</td>\n",
       "    </tr>\n",
       "    <tr>\n",
       "      <th>21408</th>\n",
       "      <td>U.S., North Korea clash at U.N. forum over nuc...</td>\n",
       "      <td>GENEVA (Reuters) - North Korea and the United ...</td>\n",
       "      <td>worldnews</td>\n",
       "      <td>August 22, 2017</td>\n",
       "      <td>1</td>\n",
       "    </tr>\n",
       "    <tr>\n",
       "      <th>21409</th>\n",
       "      <td>U.S., North Korea clash at U.N. arms forum on ...</td>\n",
       "      <td>GENEVA (Reuters) - North Korea and the United ...</td>\n",
       "      <td>worldnews</td>\n",
       "      <td>August 22, 2017</td>\n",
       "      <td>1</td>\n",
       "    </tr>\n",
       "    <tr>\n",
       "      <th>21410</th>\n",
       "      <td>Headless torso could belong to submarine journ...</td>\n",
       "      <td>COPENHAGEN (Reuters) - Danish police said on T...</td>\n",
       "      <td>worldnews</td>\n",
       "      <td>August 22, 2017</td>\n",
       "      <td>1</td>\n",
       "    </tr>\n",
       "    <tr>\n",
       "      <th>21411</th>\n",
       "      <td>North Korea shipments to Syria chemical arms a...</td>\n",
       "      <td>UNITED NATIONS (Reuters) - Two North Korean sh...</td>\n",
       "      <td>worldnews</td>\n",
       "      <td>August 21, 2017</td>\n",
       "      <td>1</td>\n",
       "    </tr>\n",
       "    <tr>\n",
       "      <th>21412</th>\n",
       "      <td>'Fully committed' NATO backs new U.S. approach...</td>\n",
       "      <td>BRUSSELS (Reuters) - NATO allies on Tuesday we...</td>\n",
       "      <td>worldnews</td>\n",
       "      <td>August 22, 2017</td>\n",
       "      <td>1</td>\n",
       "    </tr>\n",
       "    <tr>\n",
       "      <th>21413</th>\n",
       "      <td>LexisNexis withdrew two products from Chinese ...</td>\n",
       "      <td>LONDON (Reuters) - LexisNexis, a provider of l...</td>\n",
       "      <td>worldnews</td>\n",
       "      <td>August 22, 2017</td>\n",
       "      <td>1</td>\n",
       "    </tr>\n",
       "    <tr>\n",
       "      <th>21414</th>\n",
       "      <td>Minsk cultural hub becomes haven from authorities</td>\n",
       "      <td>MINSK (Reuters) - In the shadow of disused Sov...</td>\n",
       "      <td>worldnews</td>\n",
       "      <td>August 22, 2017</td>\n",
       "      <td>1</td>\n",
       "    </tr>\n",
       "    <tr>\n",
       "      <th>21415</th>\n",
       "      <td>Vatican upbeat on possibility of Pope Francis ...</td>\n",
       "      <td>MOSCOW (Reuters) - Vatican Secretary of State ...</td>\n",
       "      <td>worldnews</td>\n",
       "      <td>August 22, 2017</td>\n",
       "      <td>1</td>\n",
       "    </tr>\n",
       "    <tr>\n",
       "      <th>21416</th>\n",
       "      <td>Indonesia to buy $1.14 billion worth of Russia...</td>\n",
       "      <td>JAKARTA (Reuters) - Indonesia will buy 11 Sukh...</td>\n",
       "      <td>worldnews</td>\n",
       "      <td>August 22, 2017</td>\n",
       "      <td>1</td>\n",
       "    </tr>\n",
       "  </tbody>\n",
       "</table>\n",
       "</div>"
      ],
      "text/plain": [
       "                                                   title  \\\n",
       "21407  Mata Pires, owner of embattled Brazil builder ...   \n",
       "21408  U.S., North Korea clash at U.N. forum over nuc...   \n",
       "21409  U.S., North Korea clash at U.N. arms forum on ...   \n",
       "21410  Headless torso could belong to submarine journ...   \n",
       "21411  North Korea shipments to Syria chemical arms a...   \n",
       "21412  'Fully committed' NATO backs new U.S. approach...   \n",
       "21413  LexisNexis withdrew two products from Chinese ...   \n",
       "21414  Minsk cultural hub becomes haven from authorities   \n",
       "21415  Vatican upbeat on possibility of Pope Francis ...   \n",
       "21416  Indonesia to buy $1.14 billion worth of Russia...   \n",
       "\n",
       "                                                    text    subject  \\\n",
       "21407  SAO PAULO (Reuters) - Cesar Mata Pires, the ow...  worldnews   \n",
       "21408  GENEVA (Reuters) - North Korea and the United ...  worldnews   \n",
       "21409  GENEVA (Reuters) - North Korea and the United ...  worldnews   \n",
       "21410  COPENHAGEN (Reuters) - Danish police said on T...  worldnews   \n",
       "21411  UNITED NATIONS (Reuters) - Two North Korean sh...  worldnews   \n",
       "21412  BRUSSELS (Reuters) - NATO allies on Tuesday we...  worldnews   \n",
       "21413  LONDON (Reuters) - LexisNexis, a provider of l...  worldnews   \n",
       "21414  MINSK (Reuters) - In the shadow of disused Sov...  worldnews   \n",
       "21415  MOSCOW (Reuters) - Vatican Secretary of State ...  worldnews   \n",
       "21416  JAKARTA (Reuters) - Indonesia will buy 11 Sukh...  worldnews   \n",
       "\n",
       "                   date  label  \n",
       "21407  August 22, 2017       1  \n",
       "21408  August 22, 2017       1  \n",
       "21409  August 22, 2017       1  \n",
       "21410  August 22, 2017       1  \n",
       "21411  August 21, 2017       1  \n",
       "21412  August 22, 2017       1  \n",
       "21413  August 22, 2017       1  \n",
       "21414  August 22, 2017       1  \n",
       "21415  August 22, 2017       1  \n",
       "21416  August 22, 2017       1  "
      ]
     },
     "execution_count": 12,
     "metadata": {},
     "output_type": "execute_result"
    }
   ],
   "source": [
    "df_true_manual_testing.head(10)\n"
   ]
  },
  {
   "cell_type": "code",
   "execution_count": 13,
   "id": "51c2e5cd",
   "metadata": {
    "execution": {
     "iopub.execute_input": "2024-05-17T10:08:16.470751Z",
     "iopub.status.busy": "2024-05-17T10:08:16.469606Z",
     "iopub.status.idle": "2024-05-17T10:08:16.489101Z",
     "shell.execute_reply": "2024-05-17T10:08:16.487097Z"
    },
    "papermill": {
     "duration": 0.041501,
     "end_time": "2024-05-17T10:08:16.492293",
     "exception": false,
     "start_time": "2024-05-17T10:08:16.450792",
     "status": "completed"
    },
    "tags": []
   },
   "outputs": [],
   "source": [
    "df_manual_testing = pd.concat([df_fake_manual_testing,df_true_manual_testing], axis = 0)\n",
    "df_manual_testing.to_csv(\"manual_testing.csv\")"
   ]
  },
  {
   "cell_type": "markdown",
   "id": "d2a80662",
   "metadata": {
    "papermill": {
     "duration": 0.013623,
     "end_time": "2024-05-17T10:08:16.521680",
     "exception": false,
     "start_time": "2024-05-17T10:08:16.508057",
     "status": "completed"
    },
    "tags": []
   },
   "source": [
    "### Concatinating the true and fake dataframes"
   ]
  },
  {
   "cell_type": "code",
   "execution_count": 14,
   "id": "dd69f076",
   "metadata": {
    "execution": {
     "iopub.execute_input": "2024-05-17T10:08:16.552950Z",
     "iopub.status.busy": "2024-05-17T10:08:16.552536Z",
     "iopub.status.idle": "2024-05-17T10:08:16.570880Z",
     "shell.execute_reply": "2024-05-17T10:08:16.569125Z"
    },
    "papermill": {
     "duration": 0.036218,
     "end_time": "2024-05-17T10:08:16.573409",
     "exception": false,
     "start_time": "2024-05-17T10:08:16.537191",
     "status": "completed"
    },
    "tags": []
   },
   "outputs": [
    {
     "data": {
      "text/html": [
       "<div>\n",
       "<style scoped>\n",
       "    .dataframe tbody tr th:only-of-type {\n",
       "        vertical-align: middle;\n",
       "    }\n",
       "\n",
       "    .dataframe tbody tr th {\n",
       "        vertical-align: top;\n",
       "    }\n",
       "\n",
       "    .dataframe thead th {\n",
       "        text-align: right;\n",
       "    }\n",
       "</style>\n",
       "<table border=\"1\" class=\"dataframe\">\n",
       "  <thead>\n",
       "    <tr style=\"text-align: right;\">\n",
       "      <th></th>\n",
       "      <th>title</th>\n",
       "      <th>text</th>\n",
       "      <th>subject</th>\n",
       "      <th>date</th>\n",
       "      <th>label</th>\n",
       "    </tr>\n",
       "  </thead>\n",
       "  <tbody>\n",
       "    <tr>\n",
       "      <th>0</th>\n",
       "      <td>As U.S. budget fight looms, Republicans flip t...</td>\n",
       "      <td>WASHINGTON (Reuters) - The head of a conservat...</td>\n",
       "      <td>politicsNews</td>\n",
       "      <td>December 31, 2017</td>\n",
       "      <td>1</td>\n",
       "    </tr>\n",
       "    <tr>\n",
       "      <th>1</th>\n",
       "      <td>U.S. military to accept transgender recruits o...</td>\n",
       "      <td>WASHINGTON (Reuters) - Transgender people will...</td>\n",
       "      <td>politicsNews</td>\n",
       "      <td>December 29, 2017</td>\n",
       "      <td>1</td>\n",
       "    </tr>\n",
       "    <tr>\n",
       "      <th>2</th>\n",
       "      <td>Senior U.S. Republican senator: 'Let Mr. Muell...</td>\n",
       "      <td>WASHINGTON (Reuters) - The special counsel inv...</td>\n",
       "      <td>politicsNews</td>\n",
       "      <td>December 31, 2017</td>\n",
       "      <td>1</td>\n",
       "    </tr>\n",
       "    <tr>\n",
       "      <th>3</th>\n",
       "      <td>FBI Russia probe helped by Australian diplomat...</td>\n",
       "      <td>WASHINGTON (Reuters) - Trump campaign adviser ...</td>\n",
       "      <td>politicsNews</td>\n",
       "      <td>December 30, 2017</td>\n",
       "      <td>1</td>\n",
       "    </tr>\n",
       "    <tr>\n",
       "      <th>4</th>\n",
       "      <td>Trump wants Postal Service to charge 'much mor...</td>\n",
       "      <td>SEATTLE/WASHINGTON (Reuters) - President Donal...</td>\n",
       "      <td>politicsNews</td>\n",
       "      <td>December 29, 2017</td>\n",
       "      <td>1</td>\n",
       "    </tr>\n",
       "  </tbody>\n",
       "</table>\n",
       "</div>"
      ],
      "text/plain": [
       "                                               title  \\\n",
       "0  As U.S. budget fight looms, Republicans flip t...   \n",
       "1  U.S. military to accept transgender recruits o...   \n",
       "2  Senior U.S. Republican senator: 'Let Mr. Muell...   \n",
       "3  FBI Russia probe helped by Australian diplomat...   \n",
       "4  Trump wants Postal Service to charge 'much mor...   \n",
       "\n",
       "                                                text       subject  \\\n",
       "0  WASHINGTON (Reuters) - The head of a conservat...  politicsNews   \n",
       "1  WASHINGTON (Reuters) - Transgender people will...  politicsNews   \n",
       "2  WASHINGTON (Reuters) - The special counsel inv...  politicsNews   \n",
       "3  WASHINGTON (Reuters) - Trump campaign adviser ...  politicsNews   \n",
       "4  SEATTLE/WASHINGTON (Reuters) - President Donal...  politicsNews   \n",
       "\n",
       "                 date  label  \n",
       "0  December 31, 2017       1  \n",
       "1  December 29, 2017       1  \n",
       "2  December 31, 2017       1  \n",
       "3  December 30, 2017       1  \n",
       "4  December 29, 2017       1  "
      ]
     },
     "execution_count": 14,
     "metadata": {},
     "output_type": "execute_result"
    }
   ],
   "source": [
    "df_merge = pd.concat([true_df, fake_df], axis = 0)\n",
    "df_merge.head()"
   ]
  },
  {
   "cell_type": "code",
   "execution_count": 15,
   "id": "e8611b78",
   "metadata": {
    "execution": {
     "iopub.execute_input": "2024-05-17T10:08:16.604892Z",
     "iopub.status.busy": "2024-05-17T10:08:16.604459Z",
     "iopub.status.idle": "2024-05-17T10:08:16.612286Z",
     "shell.execute_reply": "2024-05-17T10:08:16.610954Z"
    },
    "papermill": {
     "duration": 0.02722,
     "end_time": "2024-05-17T10:08:16.615307",
     "exception": false,
     "start_time": "2024-05-17T10:08:16.588087",
     "status": "completed"
    },
    "tags": []
   },
   "outputs": [
    {
     "data": {
      "text/plain": [
       "Index(['title', 'text', 'subject', 'date', 'label'], dtype='object')"
      ]
     },
     "execution_count": 15,
     "metadata": {},
     "output_type": "execute_result"
    }
   ],
   "source": [
    "df_merge.columns"
   ]
  },
  {
   "cell_type": "markdown",
   "id": "6b979d81",
   "metadata": {
    "papermill": {
     "duration": 0.014299,
     "end_time": "2024-05-17T10:08:16.646051",
     "exception": false,
     "start_time": "2024-05-17T10:08:16.631752",
     "status": "completed"
    },
    "tags": []
   },
   "source": [
    "## Remove the uneccessay columns"
   ]
  },
  {
   "cell_type": "code",
   "execution_count": 16,
   "id": "0a766f7b",
   "metadata": {
    "execution": {
     "iopub.execute_input": "2024-05-17T10:08:16.679550Z",
     "iopub.status.busy": "2024-05-17T10:08:16.679095Z",
     "iopub.status.idle": "2024-05-17T10:08:16.691056Z",
     "shell.execute_reply": "2024-05-17T10:08:16.689901Z"
    },
    "papermill": {
     "duration": 0.031414,
     "end_time": "2024-05-17T10:08:16.693264",
     "exception": false,
     "start_time": "2024-05-17T10:08:16.661850",
     "status": "completed"
    },
    "tags": []
   },
   "outputs": [],
   "source": [
    "data = df_merge.drop(['title',  'subject', 'date'],axis = 1)"
   ]
  },
  {
   "cell_type": "code",
   "execution_count": 17,
   "id": "8228930c",
   "metadata": {
    "execution": {
     "iopub.execute_input": "2024-05-17T10:08:16.723360Z",
     "iopub.status.busy": "2024-05-17T10:08:16.722301Z",
     "iopub.status.idle": "2024-05-17T10:08:16.733229Z",
     "shell.execute_reply": "2024-05-17T10:08:16.732096Z"
    },
    "papermill": {
     "duration": 0.02817,
     "end_time": "2024-05-17T10:08:16.735431",
     "exception": false,
     "start_time": "2024-05-17T10:08:16.707261",
     "status": "completed"
    },
    "tags": []
   },
   "outputs": [
    {
     "data": {
      "text/html": [
       "<div>\n",
       "<style scoped>\n",
       "    .dataframe tbody tr th:only-of-type {\n",
       "        vertical-align: middle;\n",
       "    }\n",
       "\n",
       "    .dataframe tbody tr th {\n",
       "        vertical-align: top;\n",
       "    }\n",
       "\n",
       "    .dataframe thead th {\n",
       "        text-align: right;\n",
       "    }\n",
       "</style>\n",
       "<table border=\"1\" class=\"dataframe\">\n",
       "  <thead>\n",
       "    <tr style=\"text-align: right;\">\n",
       "      <th></th>\n",
       "      <th>text</th>\n",
       "      <th>label</th>\n",
       "    </tr>\n",
       "  </thead>\n",
       "  <tbody>\n",
       "    <tr>\n",
       "      <th>0</th>\n",
       "      <td>WASHINGTON (Reuters) - The head of a conservat...</td>\n",
       "      <td>1</td>\n",
       "    </tr>\n",
       "    <tr>\n",
       "      <th>1</th>\n",
       "      <td>WASHINGTON (Reuters) - Transgender people will...</td>\n",
       "      <td>1</td>\n",
       "    </tr>\n",
       "    <tr>\n",
       "      <th>2</th>\n",
       "      <td>WASHINGTON (Reuters) - The special counsel inv...</td>\n",
       "      <td>1</td>\n",
       "    </tr>\n",
       "    <tr>\n",
       "      <th>3</th>\n",
       "      <td>WASHINGTON (Reuters) - Trump campaign adviser ...</td>\n",
       "      <td>1</td>\n",
       "    </tr>\n",
       "    <tr>\n",
       "      <th>4</th>\n",
       "      <td>SEATTLE/WASHINGTON (Reuters) - President Donal...</td>\n",
       "      <td>1</td>\n",
       "    </tr>\n",
       "  </tbody>\n",
       "</table>\n",
       "</div>"
      ],
      "text/plain": [
       "                                                text  label\n",
       "0  WASHINGTON (Reuters) - The head of a conservat...      1\n",
       "1  WASHINGTON (Reuters) - Transgender people will...      1\n",
       "2  WASHINGTON (Reuters) - The special counsel inv...      1\n",
       "3  WASHINGTON (Reuters) - Trump campaign adviser ...      1\n",
       "4  SEATTLE/WASHINGTON (Reuters) - President Donal...      1"
      ]
     },
     "execution_count": 17,
     "metadata": {},
     "output_type": "execute_result"
    }
   ],
   "source": [
    "data.head()"
   ]
  },
  {
   "cell_type": "code",
   "execution_count": 18,
   "id": "34eb4c14",
   "metadata": {
    "execution": {
     "iopub.execute_input": "2024-05-17T10:08:16.768319Z",
     "iopub.status.busy": "2024-05-17T10:08:16.767609Z",
     "iopub.status.idle": "2024-05-17T10:08:16.783907Z",
     "shell.execute_reply": "2024-05-17T10:08:16.782870Z"
    },
    "papermill": {
     "duration": 0.035945,
     "end_time": "2024-05-17T10:08:16.787038",
     "exception": false,
     "start_time": "2024-05-17T10:08:16.751093",
     "status": "completed"
    },
    "tags": []
   },
   "outputs": [
    {
     "data": {
      "text/plain": [
       "text     0\n",
       "label    0\n",
       "dtype: int64"
      ]
     },
     "execution_count": 18,
     "metadata": {},
     "output_type": "execute_result"
    }
   ],
   "source": [
    "data.isnull().sum()"
   ]
  },
  {
   "cell_type": "markdown",
   "id": "b3830cf7",
   "metadata": {
    "papermill": {
     "duration": 0.016928,
     "end_time": "2024-05-17T10:08:16.888237",
     "exception": false,
     "start_time": "2024-05-17T10:08:16.871309",
     "status": "completed"
    },
    "tags": []
   },
   "source": [
    "## Random shuffling the dataframes"
   ]
  },
  {
   "cell_type": "code",
   "execution_count": 19,
   "id": "cb9c0312",
   "metadata": {
    "execution": {
     "iopub.execute_input": "2024-05-17T10:08:16.923983Z",
     "iopub.status.busy": "2024-05-17T10:08:16.922679Z",
     "iopub.status.idle": "2024-05-17T10:08:16.945970Z",
     "shell.execute_reply": "2024-05-17T10:08:16.944797Z"
    },
    "papermill": {
     "duration": 0.043064,
     "end_time": "2024-05-17T10:08:16.948382",
     "exception": false,
     "start_time": "2024-05-17T10:08:16.905318",
     "status": "completed"
    },
    "tags": []
   },
   "outputs": [
    {
     "data": {
      "text/html": [
       "<div>\n",
       "<style scoped>\n",
       "    .dataframe tbody tr th:only-of-type {\n",
       "        vertical-align: middle;\n",
       "    }\n",
       "\n",
       "    .dataframe tbody tr th {\n",
       "        vertical-align: top;\n",
       "    }\n",
       "\n",
       "    .dataframe thead th {\n",
       "        text-align: right;\n",
       "    }\n",
       "</style>\n",
       "<table border=\"1\" class=\"dataframe\">\n",
       "  <thead>\n",
       "    <tr style=\"text-align: right;\">\n",
       "      <th></th>\n",
       "      <th>text</th>\n",
       "      <th>label</th>\n",
       "    </tr>\n",
       "  </thead>\n",
       "  <tbody>\n",
       "    <tr>\n",
       "      <th>2775</th>\n",
       "      <td>Kellyanne Conway tried to baffle George Stepha...</td>\n",
       "      <td>0</td>\n",
       "    </tr>\n",
       "    <tr>\n",
       "      <th>14495</th>\n",
       "      <td>BAGHDAD (Reuters) - Iraqi forces on Friday cap...</td>\n",
       "      <td>1</td>\n",
       "    </tr>\n",
       "    <tr>\n",
       "      <th>2673</th>\n",
       "      <td>WASHINGTON (Reuters) - The top Democrat on the...</td>\n",
       "      <td>1</td>\n",
       "    </tr>\n",
       "    <tr>\n",
       "      <th>1090</th>\n",
       "      <td>A horrifying incident took place in the early ...</td>\n",
       "      <td>0</td>\n",
       "    </tr>\n",
       "    <tr>\n",
       "      <th>15903</th>\n",
       "      <td>The story below from the liberal New York Time...</td>\n",
       "      <td>0</td>\n",
       "    </tr>\n",
       "  </tbody>\n",
       "</table>\n",
       "</div>"
      ],
      "text/plain": [
       "                                                    text  label\n",
       "2775   Kellyanne Conway tried to baffle George Stepha...      0\n",
       "14495  BAGHDAD (Reuters) - Iraqi forces on Friday cap...      1\n",
       "2673   WASHINGTON (Reuters) - The top Democrat on the...      1\n",
       "1090   A horrifying incident took place in the early ...      0\n",
       "15903  The story below from the liberal New York Time...      0"
      ]
     },
     "execution_count": 19,
     "metadata": {},
     "output_type": "execute_result"
    }
   ],
   "source": [
    "data = data.sample(frac =1)\n",
    "data.head()"
   ]
  },
  {
   "cell_type": "code",
   "execution_count": 20,
   "id": "043ca7bd",
   "metadata": {
    "execution": {
     "iopub.execute_input": "2024-05-17T10:08:16.982162Z",
     "iopub.status.busy": "2024-05-17T10:08:16.981146Z",
     "iopub.status.idle": "2024-05-17T10:08:16.993406Z",
     "shell.execute_reply": "2024-05-17T10:08:16.991804Z"
    },
    "papermill": {
     "duration": 0.032853,
     "end_time": "2024-05-17T10:08:16.996129",
     "exception": false,
     "start_time": "2024-05-17T10:08:16.963276",
     "status": "completed"
    },
    "tags": []
   },
   "outputs": [],
   "source": [
    "data.reset_index(inplace = True)\n",
    "data.drop(['index'], axis = 1, inplace = True)"
   ]
  },
  {
   "cell_type": "code",
   "execution_count": 21,
   "id": "dc757dd4",
   "metadata": {
    "execution": {
     "iopub.execute_input": "2024-05-17T10:08:17.029980Z",
     "iopub.status.busy": "2024-05-17T10:08:17.029084Z",
     "iopub.status.idle": "2024-05-17T10:08:17.041112Z",
     "shell.execute_reply": "2024-05-17T10:08:17.039392Z"
    },
    "papermill": {
     "duration": 0.032017,
     "end_time": "2024-05-17T10:08:17.044049",
     "exception": false,
     "start_time": "2024-05-17T10:08:17.012032",
     "status": "completed"
    },
    "tags": []
   },
   "outputs": [
    {
     "data": {
      "text/html": [
       "<div>\n",
       "<style scoped>\n",
       "    .dataframe tbody tr th:only-of-type {\n",
       "        vertical-align: middle;\n",
       "    }\n",
       "\n",
       "    .dataframe tbody tr th {\n",
       "        vertical-align: top;\n",
       "    }\n",
       "\n",
       "    .dataframe thead th {\n",
       "        text-align: right;\n",
       "    }\n",
       "</style>\n",
       "<table border=\"1\" class=\"dataframe\">\n",
       "  <thead>\n",
       "    <tr style=\"text-align: right;\">\n",
       "      <th></th>\n",
       "      <th>text</th>\n",
       "      <th>label</th>\n",
       "    </tr>\n",
       "  </thead>\n",
       "  <tbody>\n",
       "    <tr>\n",
       "      <th>0</th>\n",
       "      <td>Kellyanne Conway tried to baffle George Stepha...</td>\n",
       "      <td>0</td>\n",
       "    </tr>\n",
       "    <tr>\n",
       "      <th>1</th>\n",
       "      <td>BAGHDAD (Reuters) - Iraqi forces on Friday cap...</td>\n",
       "      <td>1</td>\n",
       "    </tr>\n",
       "    <tr>\n",
       "      <th>2</th>\n",
       "      <td>WASHINGTON (Reuters) - The top Democrat on the...</td>\n",
       "      <td>1</td>\n",
       "    </tr>\n",
       "    <tr>\n",
       "      <th>3</th>\n",
       "      <td>A horrifying incident took place in the early ...</td>\n",
       "      <td>0</td>\n",
       "    </tr>\n",
       "    <tr>\n",
       "      <th>4</th>\n",
       "      <td>The story below from the liberal New York Time...</td>\n",
       "      <td>0</td>\n",
       "    </tr>\n",
       "  </tbody>\n",
       "</table>\n",
       "</div>"
      ],
      "text/plain": [
       "                                                text  label\n",
       "0  Kellyanne Conway tried to baffle George Stepha...      0\n",
       "1  BAGHDAD (Reuters) - Iraqi forces on Friday cap...      1\n",
       "2  WASHINGTON (Reuters) - The top Democrat on the...      1\n",
       "3  A horrifying incident took place in the early ...      0\n",
       "4  The story below from the liberal New York Time...      0"
      ]
     },
     "execution_count": 21,
     "metadata": {},
     "output_type": "execute_result"
    }
   ],
   "source": [
    "data.head()"
   ]
  },
  {
   "cell_type": "markdown",
   "id": "fe35446f",
   "metadata": {
    "papermill": {
     "duration": 0.014786,
     "end_time": "2024-05-17T10:08:17.074907",
     "exception": false,
     "start_time": "2024-05-17T10:08:17.060121",
     "status": "completed"
    },
    "tags": []
   },
   "source": [
    "## Function to preprocess the text"
   ]
  },
  {
   "cell_type": "code",
   "execution_count": 22,
   "id": "5b62adf5",
   "metadata": {
    "execution": {
     "iopub.execute_input": "2024-05-17T10:08:17.110617Z",
     "iopub.status.busy": "2024-05-17T10:08:17.110067Z",
     "iopub.status.idle": "2024-05-17T10:08:17.820495Z",
     "shell.execute_reply": "2024-05-17T10:08:17.818840Z"
    },
    "papermill": {
     "duration": 0.732653,
     "end_time": "2024-05-17T10:08:17.824403",
     "exception": false,
     "start_time": "2024-05-17T10:08:17.091750",
     "status": "completed"
    },
    "tags": []
   },
   "outputs": [],
   "source": [
    "import re\n",
    "import string\n",
    "from nltk.corpus import stopwords\n",
    "\n",
    "def preprocess(text):\n",
    "    # Convert text to lowercase\n",
    "    text = text.lower()\n",
    "    \n",
    "    # Remove square brackets and their contents\n",
    "    text = re.sub('\\[.*?\\]', '', text)\n",
    "    \n",
    "    # Remove non-word characters\n",
    "    text = re.sub(\"\\\\W\", \" \", text)\n",
    "    \n",
    "    # Remove URLs\n",
    "    text = re.sub('https?://\\S+|www\\.\\S+', '', text)\n",
    "    \n",
    "    # Remove HTML tags\n",
    "    text = re.sub('<.*?>', '', text)\n",
    "    \n",
    "    # Remove punctuation\n",
    "    text = re.sub('[%s]' % re.escape(string.punctuation), '', text)\n",
    "    \n",
    "    # Remove newline characters\n",
    "    text = re.sub('\\n', '', text)\n",
    "    \n",
    "    # Remove alphanumeric characters\n",
    "    text = re.sub('\\w*\\d\\w*', '', text)    \n",
    "    \n",
    "    # Remove stop words\n",
    "    stop_words = set(stopwords.words('english'))\n",
    "    tokens = text.split()\n",
    "    filtered_tokens = [token for token in tokens if token not in stop_words]\n",
    "    text = ' '.join(filtered_tokens)\n",
    "    \n",
    "    return text\n"
   ]
  },
  {
   "cell_type": "code",
   "execution_count": 23,
   "id": "e0f87123",
   "metadata": {
    "execution": {
     "iopub.execute_input": "2024-05-17T10:08:17.860083Z",
     "iopub.status.busy": "2024-05-17T10:08:17.859465Z",
     "iopub.status.idle": "2024-05-17T10:08:54.712230Z",
     "shell.execute_reply": "2024-05-17T10:08:54.710225Z"
    },
    "papermill": {
     "duration": 36.874392,
     "end_time": "2024-05-17T10:08:54.715543",
     "exception": false,
     "start_time": "2024-05-17T10:08:17.841151",
     "status": "completed"
    },
    "tags": []
   },
   "outputs": [],
   "source": [
    "data['cleaned_text'] = data['text'].apply(preprocess)"
   ]
  },
  {
   "cell_type": "code",
   "execution_count": 24,
   "id": "9ec6f299",
   "metadata": {
    "execution": {
     "iopub.execute_input": "2024-05-17T10:08:54.751147Z",
     "iopub.status.busy": "2024-05-17T10:08:54.750754Z",
     "iopub.status.idle": "2024-05-17T10:08:54.763756Z",
     "shell.execute_reply": "2024-05-17T10:08:54.761971Z"
    },
    "papermill": {
     "duration": 0.03433,
     "end_time": "2024-05-17T10:08:54.766781",
     "exception": false,
     "start_time": "2024-05-17T10:08:54.732451",
     "status": "completed"
    },
    "tags": []
   },
   "outputs": [
    {
     "data": {
      "text/html": [
       "<div>\n",
       "<style scoped>\n",
       "    .dataframe tbody tr th:only-of-type {\n",
       "        vertical-align: middle;\n",
       "    }\n",
       "\n",
       "    .dataframe tbody tr th {\n",
       "        vertical-align: top;\n",
       "    }\n",
       "\n",
       "    .dataframe thead th {\n",
       "        text-align: right;\n",
       "    }\n",
       "</style>\n",
       "<table border=\"1\" class=\"dataframe\">\n",
       "  <thead>\n",
       "    <tr style=\"text-align: right;\">\n",
       "      <th></th>\n",
       "      <th>text</th>\n",
       "      <th>label</th>\n",
       "      <th>cleaned_text</th>\n",
       "    </tr>\n",
       "  </thead>\n",
       "  <tbody>\n",
       "    <tr>\n",
       "      <th>0</th>\n",
       "      <td>Kellyanne Conway tried to baffle George Stepha...</td>\n",
       "      <td>0</td>\n",
       "      <td>kellyanne conway tried baffle george stephanop...</td>\n",
       "    </tr>\n",
       "    <tr>\n",
       "      <th>1</th>\n",
       "      <td>BAGHDAD (Reuters) - Iraqi forces on Friday cap...</td>\n",
       "      <td>1</td>\n",
       "      <td>baghdad reuters iraqi forces friday captured b...</td>\n",
       "    </tr>\n",
       "    <tr>\n",
       "      <th>2</th>\n",
       "      <td>WASHINGTON (Reuters) - The top Democrat on the...</td>\n",
       "      <td>1</td>\n",
       "      <td>washington reuters top democrat u house repres...</td>\n",
       "    </tr>\n",
       "    <tr>\n",
       "      <th>3</th>\n",
       "      <td>A horrifying incident took place in the early ...</td>\n",
       "      <td>0</td>\n",
       "      <td>horrifying incident took place early hours mon...</td>\n",
       "    </tr>\n",
       "    <tr>\n",
       "      <th>4</th>\n",
       "      <td>The story below from the liberal New York Time...</td>\n",
       "      <td>0</td>\n",
       "      <td>story liberal new york times hysterical rex ti...</td>\n",
       "    </tr>\n",
       "  </tbody>\n",
       "</table>\n",
       "</div>"
      ],
      "text/plain": [
       "                                                text  label  \\\n",
       "0  Kellyanne Conway tried to baffle George Stepha...      0   \n",
       "1  BAGHDAD (Reuters) - Iraqi forces on Friday cap...      1   \n",
       "2  WASHINGTON (Reuters) - The top Democrat on the...      1   \n",
       "3  A horrifying incident took place in the early ...      0   \n",
       "4  The story below from the liberal New York Time...      0   \n",
       "\n",
       "                                        cleaned_text  \n",
       "0  kellyanne conway tried baffle george stephanop...  \n",
       "1  baghdad reuters iraqi forces friday captured b...  \n",
       "2  washington reuters top democrat u house repres...  \n",
       "3  horrifying incident took place early hours mon...  \n",
       "4  story liberal new york times hysterical rex ti...  "
      ]
     },
     "execution_count": 24,
     "metadata": {},
     "output_type": "execute_result"
    }
   ],
   "source": [
    "data.head()"
   ]
  },
  {
   "cell_type": "code",
   "execution_count": 25,
   "id": "6af0d4d4",
   "metadata": {
    "execution": {
     "iopub.execute_input": "2024-05-17T10:08:54.800809Z",
     "iopub.status.busy": "2024-05-17T10:08:54.800374Z",
     "iopub.status.idle": "2024-05-17T10:08:54.811201Z",
     "shell.execute_reply": "2024-05-17T10:08:54.809779Z"
    },
    "papermill": {
     "duration": 0.032054,
     "end_time": "2024-05-17T10:08:54.813667",
     "exception": false,
     "start_time": "2024-05-17T10:08:54.781613",
     "status": "completed"
    },
    "tags": []
   },
   "outputs": [],
   "source": [
    "data.drop(['text'], axis = 1, inplace = True)"
   ]
  },
  {
   "cell_type": "code",
   "execution_count": 26,
   "id": "7a621b39",
   "metadata": {
    "execution": {
     "iopub.execute_input": "2024-05-17T10:08:54.846357Z",
     "iopub.status.busy": "2024-05-17T10:08:54.845948Z",
     "iopub.status.idle": "2024-05-17T10:08:54.857450Z",
     "shell.execute_reply": "2024-05-17T10:08:54.856304Z"
    },
    "papermill": {
     "duration": 0.031351,
     "end_time": "2024-05-17T10:08:54.859785",
     "exception": false,
     "start_time": "2024-05-17T10:08:54.828434",
     "status": "completed"
    },
    "tags": []
   },
   "outputs": [
    {
     "data": {
      "text/html": [
       "<div>\n",
       "<style scoped>\n",
       "    .dataframe tbody tr th:only-of-type {\n",
       "        vertical-align: middle;\n",
       "    }\n",
       "\n",
       "    .dataframe tbody tr th {\n",
       "        vertical-align: top;\n",
       "    }\n",
       "\n",
       "    .dataframe thead th {\n",
       "        text-align: right;\n",
       "    }\n",
       "</style>\n",
       "<table border=\"1\" class=\"dataframe\">\n",
       "  <thead>\n",
       "    <tr style=\"text-align: right;\">\n",
       "      <th></th>\n",
       "      <th>label</th>\n",
       "      <th>cleaned_text</th>\n",
       "    </tr>\n",
       "  </thead>\n",
       "  <tbody>\n",
       "    <tr>\n",
       "      <th>0</th>\n",
       "      <td>0</td>\n",
       "      <td>kellyanne conway tried baffle george stephanop...</td>\n",
       "    </tr>\n",
       "    <tr>\n",
       "      <th>1</th>\n",
       "      <td>1</td>\n",
       "      <td>baghdad reuters iraqi forces friday captured b...</td>\n",
       "    </tr>\n",
       "    <tr>\n",
       "      <th>2</th>\n",
       "      <td>1</td>\n",
       "      <td>washington reuters top democrat u house repres...</td>\n",
       "    </tr>\n",
       "    <tr>\n",
       "      <th>3</th>\n",
       "      <td>0</td>\n",
       "      <td>horrifying incident took place early hours mon...</td>\n",
       "    </tr>\n",
       "    <tr>\n",
       "      <th>4</th>\n",
       "      <td>0</td>\n",
       "      <td>story liberal new york times hysterical rex ti...</td>\n",
       "    </tr>\n",
       "  </tbody>\n",
       "</table>\n",
       "</div>"
      ],
      "text/plain": [
       "   label                                       cleaned_text\n",
       "0      0  kellyanne conway tried baffle george stephanop...\n",
       "1      1  baghdad reuters iraqi forces friday captured b...\n",
       "2      1  washington reuters top democrat u house repres...\n",
       "3      0  horrifying incident took place early hours mon...\n",
       "4      0  story liberal new york times hysterical rex ti..."
      ]
     },
     "execution_count": 26,
     "metadata": {},
     "output_type": "execute_result"
    }
   ],
   "source": [
    "data.head()"
   ]
  },
  {
   "cell_type": "code",
   "execution_count": 27,
   "id": "d8268d86",
   "metadata": {
    "execution": {
     "iopub.execute_input": "2024-05-17T10:08:54.897540Z",
     "iopub.status.busy": "2024-05-17T10:08:54.897151Z",
     "iopub.status.idle": "2024-05-17T10:08:54.910310Z",
     "shell.execute_reply": "2024-05-17T10:08:54.908990Z"
    },
    "papermill": {
     "duration": 0.034491,
     "end_time": "2024-05-17T10:08:54.912686",
     "exception": false,
     "start_time": "2024-05-17T10:08:54.878195",
     "status": "completed"
    },
    "tags": []
   },
   "outputs": [
    {
     "data": {
      "text/html": [
       "<div>\n",
       "<style scoped>\n",
       "    .dataframe tbody tr th:only-of-type {\n",
       "        vertical-align: middle;\n",
       "    }\n",
       "\n",
       "    .dataframe tbody tr th {\n",
       "        vertical-align: top;\n",
       "    }\n",
       "\n",
       "    .dataframe thead th {\n",
       "        text-align: right;\n",
       "    }\n",
       "</style>\n",
       "<table border=\"1\" class=\"dataframe\">\n",
       "  <thead>\n",
       "    <tr style=\"text-align: right;\">\n",
       "      <th></th>\n",
       "      <th>cleaned_text</th>\n",
       "      <th>label</th>\n",
       "    </tr>\n",
       "  </thead>\n",
       "  <tbody>\n",
       "    <tr>\n",
       "      <th>0</th>\n",
       "      <td>kellyanne conway tried baffle george stephanop...</td>\n",
       "      <td>0</td>\n",
       "    </tr>\n",
       "    <tr>\n",
       "      <th>1</th>\n",
       "      <td>baghdad reuters iraqi forces friday captured b...</td>\n",
       "      <td>1</td>\n",
       "    </tr>\n",
       "    <tr>\n",
       "      <th>2</th>\n",
       "      <td>washington reuters top democrat u house repres...</td>\n",
       "      <td>1</td>\n",
       "    </tr>\n",
       "    <tr>\n",
       "      <th>3</th>\n",
       "      <td>horrifying incident took place early hours mon...</td>\n",
       "      <td>0</td>\n",
       "    </tr>\n",
       "    <tr>\n",
       "      <th>4</th>\n",
       "      <td>story liberal new york times hysterical rex ti...</td>\n",
       "      <td>0</td>\n",
       "    </tr>\n",
       "  </tbody>\n",
       "</table>\n",
       "</div>"
      ],
      "text/plain": [
       "                                        cleaned_text  label\n",
       "0  kellyanne conway tried baffle george stephanop...      0\n",
       "1  baghdad reuters iraqi forces friday captured b...      1\n",
       "2  washington reuters top democrat u house repres...      1\n",
       "3  horrifying incident took place early hours mon...      0\n",
       "4  story liberal new york times hysterical rex ti...      0"
      ]
     },
     "execution_count": 27,
     "metadata": {},
     "output_type": "execute_result"
    }
   ],
   "source": [
    "# Extract the 'label' column\n",
    "label_column = data.pop('label')\n",
    "\n",
    "# Re-insert the 'label' column at the end\n",
    "data['label'] = label_column\n",
    "data.head()"
   ]
  },
  {
   "cell_type": "markdown",
   "id": "b522916e",
   "metadata": {
    "papermill": {
     "duration": 0.017816,
     "end_time": "2024-05-17T10:08:54.946127",
     "exception": false,
     "start_time": "2024-05-17T10:08:54.928311",
     "status": "completed"
    },
    "tags": []
   },
   "source": [
    "## Defining dependent and independent variables"
   ]
  },
  {
   "cell_type": "code",
   "execution_count": 28,
   "id": "abcd9725",
   "metadata": {
    "execution": {
     "iopub.execute_input": "2024-05-17T10:08:54.982595Z",
     "iopub.status.busy": "2024-05-17T10:08:54.982086Z",
     "iopub.status.idle": "2024-05-17T10:08:54.988581Z",
     "shell.execute_reply": "2024-05-17T10:08:54.986959Z"
    },
    "papermill": {
     "duration": 0.026997,
     "end_time": "2024-05-17T10:08:54.990884",
     "exception": false,
     "start_time": "2024-05-17T10:08:54.963887",
     "status": "completed"
    },
    "tags": []
   },
   "outputs": [],
   "source": [
    "X = data['cleaned_text']\n",
    "y = data['label']"
   ]
  },
  {
   "cell_type": "markdown",
   "id": "5af3b01d",
   "metadata": {
    "papermill": {
     "duration": 0.016204,
     "end_time": "2024-05-17T10:08:55.022365",
     "exception": false,
     "start_time": "2024-05-17T10:08:55.006161",
     "status": "completed"
    },
    "tags": []
   },
   "source": [
    "## Splitting Training and Testing"
   ]
  },
  {
   "cell_type": "code",
   "execution_count": 29,
   "id": "237a42d5",
   "metadata": {
    "execution": {
     "iopub.execute_input": "2024-05-17T10:08:55.057276Z",
     "iopub.status.busy": "2024-05-17T10:08:55.056840Z",
     "iopub.status.idle": "2024-05-17T10:08:55.072344Z",
     "shell.execute_reply": "2024-05-17T10:08:55.070821Z"
    },
    "papermill": {
     "duration": 0.036617,
     "end_time": "2024-05-17T10:08:55.075290",
     "exception": false,
     "start_time": "2024-05-17T10:08:55.038673",
     "status": "completed"
    },
    "tags": []
   },
   "outputs": [],
   "source": [
    "X_train, X_test, y_train, y_test = train_test_split(X, y, test_size=0.25)"
   ]
  },
  {
   "cell_type": "markdown",
   "id": "366004b6",
   "metadata": {
    "papermill": {
     "duration": 0.016058,
     "end_time": "2024-05-17T10:08:55.107136",
     "exception": false,
     "start_time": "2024-05-17T10:08:55.091078",
     "status": "completed"
    },
    "tags": []
   },
   "source": [
    "## Convert text to vectors"
   ]
  },
  {
   "cell_type": "code",
   "execution_count": 30,
   "id": "eb03feec",
   "metadata": {
    "execution": {
     "iopub.execute_input": "2024-05-17T10:08:55.143578Z",
     "iopub.status.busy": "2024-05-17T10:08:55.143145Z",
     "iopub.status.idle": "2024-05-17T10:09:06.161353Z",
     "shell.execute_reply": "2024-05-17T10:09:06.160134Z"
    },
    "papermill": {
     "duration": 11.039042,
     "end_time": "2024-05-17T10:09:06.164108",
     "exception": false,
     "start_time": "2024-05-17T10:08:55.125066",
     "status": "completed"
    },
    "tags": []
   },
   "outputs": [],
   "source": [
    "from sklearn.feature_extraction.text import TfidfVectorizer\n",
    "\n",
    "vectorization = TfidfVectorizer()\n",
    "xv_train = vectorization.fit_transform(X_train)\n",
    "xv_test = vectorization.transform(X_test)"
   ]
  },
  {
   "cell_type": "markdown",
   "id": "f348947b",
   "metadata": {
    "papermill": {
     "duration": 0.015649,
     "end_time": "2024-05-17T10:09:06.197508",
     "exception": false,
     "start_time": "2024-05-17T10:09:06.181859",
     "status": "completed"
    },
    "tags": []
   },
   "source": [
    "## LOGISTIC REGRESSION"
   ]
  },
  {
   "cell_type": "code",
   "execution_count": 31,
   "id": "da9c5d8a",
   "metadata": {
    "execution": {
     "iopub.execute_input": "2024-05-17T10:09:06.234541Z",
     "iopub.status.busy": "2024-05-17T10:09:06.233561Z",
     "iopub.status.idle": "2024-05-17T10:09:10.693601Z",
     "shell.execute_reply": "2024-05-17T10:09:10.691380Z"
    },
    "papermill": {
     "duration": 4.483397,
     "end_time": "2024-05-17T10:09:10.697554",
     "exception": false,
     "start_time": "2024-05-17T10:09:06.214157",
     "status": "completed"
    },
    "tags": []
   },
   "outputs": [
    {
     "data": {
      "text/html": [
       "<style>#sk-container-id-1 {color: black;background-color: white;}#sk-container-id-1 pre{padding: 0;}#sk-container-id-1 div.sk-toggleable {background-color: white;}#sk-container-id-1 label.sk-toggleable__label {cursor: pointer;display: block;width: 100%;margin-bottom: 0;padding: 0.3em;box-sizing: border-box;text-align: center;}#sk-container-id-1 label.sk-toggleable__label-arrow:before {content: \"▸\";float: left;margin-right: 0.25em;color: #696969;}#sk-container-id-1 label.sk-toggleable__label-arrow:hover:before {color: black;}#sk-container-id-1 div.sk-estimator:hover label.sk-toggleable__label-arrow:before {color: black;}#sk-container-id-1 div.sk-toggleable__content {max-height: 0;max-width: 0;overflow: hidden;text-align: left;background-color: #f0f8ff;}#sk-container-id-1 div.sk-toggleable__content pre {margin: 0.2em;color: black;border-radius: 0.25em;background-color: #f0f8ff;}#sk-container-id-1 input.sk-toggleable__control:checked~div.sk-toggleable__content {max-height: 200px;max-width: 100%;overflow: auto;}#sk-container-id-1 input.sk-toggleable__control:checked~label.sk-toggleable__label-arrow:before {content: \"▾\";}#sk-container-id-1 div.sk-estimator input.sk-toggleable__control:checked~label.sk-toggleable__label {background-color: #d4ebff;}#sk-container-id-1 div.sk-label input.sk-toggleable__control:checked~label.sk-toggleable__label {background-color: #d4ebff;}#sk-container-id-1 input.sk-hidden--visually {border: 0;clip: rect(1px 1px 1px 1px);clip: rect(1px, 1px, 1px, 1px);height: 1px;margin: -1px;overflow: hidden;padding: 0;position: absolute;width: 1px;}#sk-container-id-1 div.sk-estimator {font-family: monospace;background-color: #f0f8ff;border: 1px dotted black;border-radius: 0.25em;box-sizing: border-box;margin-bottom: 0.5em;}#sk-container-id-1 div.sk-estimator:hover {background-color: #d4ebff;}#sk-container-id-1 div.sk-parallel-item::after {content: \"\";width: 100%;border-bottom: 1px solid gray;flex-grow: 1;}#sk-container-id-1 div.sk-label:hover label.sk-toggleable__label {background-color: #d4ebff;}#sk-container-id-1 div.sk-serial::before {content: \"\";position: absolute;border-left: 1px solid gray;box-sizing: border-box;top: 0;bottom: 0;left: 50%;z-index: 0;}#sk-container-id-1 div.sk-serial {display: flex;flex-direction: column;align-items: center;background-color: white;padding-right: 0.2em;padding-left: 0.2em;position: relative;}#sk-container-id-1 div.sk-item {position: relative;z-index: 1;}#sk-container-id-1 div.sk-parallel {display: flex;align-items: stretch;justify-content: center;background-color: white;position: relative;}#sk-container-id-1 div.sk-item::before, #sk-container-id-1 div.sk-parallel-item::before {content: \"\";position: absolute;border-left: 1px solid gray;box-sizing: border-box;top: 0;bottom: 0;left: 50%;z-index: -1;}#sk-container-id-1 div.sk-parallel-item {display: flex;flex-direction: column;z-index: 1;position: relative;background-color: white;}#sk-container-id-1 div.sk-parallel-item:first-child::after {align-self: flex-end;width: 50%;}#sk-container-id-1 div.sk-parallel-item:last-child::after {align-self: flex-start;width: 50%;}#sk-container-id-1 div.sk-parallel-item:only-child::after {width: 0;}#sk-container-id-1 div.sk-dashed-wrapped {border: 1px dashed gray;margin: 0 0.4em 0.5em 0.4em;box-sizing: border-box;padding-bottom: 0.4em;background-color: white;}#sk-container-id-1 div.sk-label label {font-family: monospace;font-weight: bold;display: inline-block;line-height: 1.2em;}#sk-container-id-1 div.sk-label-container {text-align: center;}#sk-container-id-1 div.sk-container {/* jupyter's `normalize.less` sets `[hidden] { display: none; }` but bootstrap.min.css set `[hidden] { display: none !important; }` so we also need the `!important` here to be able to override the default hidden behavior on the sphinx rendered scikit-learn.org. See: https://github.com/scikit-learn/scikit-learn/issues/21755 */display: inline-block !important;position: relative;}#sk-container-id-1 div.sk-text-repr-fallback {display: none;}</style><div id=\"sk-container-id-1\" class=\"sk-top-container\"><div class=\"sk-text-repr-fallback\"><pre>LogisticRegression()</pre><b>In a Jupyter environment, please rerun this cell to show the HTML representation or trust the notebook. <br />On GitHub, the HTML representation is unable to render, please try loading this page with nbviewer.org.</b></div><div class=\"sk-container\" hidden><div class=\"sk-item\"><div class=\"sk-estimator sk-toggleable\"><input class=\"sk-toggleable__control sk-hidden--visually\" id=\"sk-estimator-id-1\" type=\"checkbox\" checked><label for=\"sk-estimator-id-1\" class=\"sk-toggleable__label sk-toggleable__label-arrow\">LogisticRegression</label><div class=\"sk-toggleable__content\"><pre>LogisticRegression()</pre></div></div></div></div></div>"
      ],
      "text/plain": [
       "LogisticRegression()"
      ]
     },
     "execution_count": 31,
     "metadata": {},
     "output_type": "execute_result"
    }
   ],
   "source": [
    "from sklearn.linear_model import LogisticRegression\n",
    "\n",
    "LR = LogisticRegression()\n",
    "LR.fit(xv_train, y_train)"
   ]
  },
  {
   "cell_type": "code",
   "execution_count": 32,
   "id": "5ad07ed9",
   "metadata": {
    "execution": {
     "iopub.execute_input": "2024-05-17T10:09:10.770164Z",
     "iopub.status.busy": "2024-05-17T10:09:10.769548Z",
     "iopub.status.idle": "2024-05-17T10:09:10.807272Z",
     "shell.execute_reply": "2024-05-17T10:09:10.805982Z"
    },
    "papermill": {
     "duration": 0.076831,
     "end_time": "2024-05-17T10:09:10.810159",
     "exception": false,
     "start_time": "2024-05-17T10:09:10.733328",
     "status": "completed"
    },
    "tags": []
   },
   "outputs": [
    {
     "data": {
      "text/plain": [
       "0.9882352941176471"
      ]
     },
     "execution_count": 32,
     "metadata": {},
     "output_type": "execute_result"
    }
   ],
   "source": [
    "pred_lr = LR.predict(xv_test)\n",
    "LR.score(xv_test,y_test)"
   ]
  },
  {
   "cell_type": "code",
   "execution_count": 33,
   "id": "10d3fb6f",
   "metadata": {
    "execution": {
     "iopub.execute_input": "2024-05-17T10:09:10.845685Z",
     "iopub.status.busy": "2024-05-17T10:09:10.844865Z",
     "iopub.status.idle": "2024-05-17T10:09:10.881761Z",
     "shell.execute_reply": "2024-05-17T10:09:10.880099Z"
    },
    "papermill": {
     "duration": 0.05866,
     "end_time": "2024-05-17T10:09:10.884514",
     "exception": false,
     "start_time": "2024-05-17T10:09:10.825854",
     "status": "completed"
    },
    "tags": []
   },
   "outputs": [
    {
     "name": "stdout",
     "output_type": "stream",
     "text": [
      "              precision    recall  f1-score   support\n",
      "\n",
      "           0       0.99      0.99      0.99      5786\n",
      "           1       0.99      0.99      0.99      5434\n",
      "\n",
      "    accuracy                           0.99     11220\n",
      "   macro avg       0.99      0.99      0.99     11220\n",
      "weighted avg       0.99      0.99      0.99     11220\n",
      "\n"
     ]
    }
   ],
   "source": [
    "print(classification_report(y_test, pred_lr))"
   ]
  },
  {
   "cell_type": "markdown",
   "id": "18041ef5",
   "metadata": {
    "papermill": {
     "duration": 0.017336,
     "end_time": "2024-05-17T10:09:10.918754",
     "exception": false,
     "start_time": "2024-05-17T10:09:10.901418",
     "status": "completed"
    },
    "tags": []
   },
   "source": [
    "## Decision Tree Classification\n"
   ]
  },
  {
   "cell_type": "code",
   "execution_count": 34,
   "id": "f7594191",
   "metadata": {
    "execution": {
     "iopub.execute_input": "2024-05-17T10:09:10.957574Z",
     "iopub.status.busy": "2024-05-17T10:09:10.957155Z",
     "iopub.status.idle": "2024-05-17T10:09:47.688148Z",
     "shell.execute_reply": "2024-05-17T10:09:47.686766Z"
    },
    "papermill": {
     "duration": 36.767857,
     "end_time": "2024-05-17T10:09:47.705544",
     "exception": false,
     "start_time": "2024-05-17T10:09:10.937687",
     "status": "completed"
    },
    "tags": []
   },
   "outputs": [
    {
     "data": {
      "text/html": [
       "<style>#sk-container-id-2 {color: black;background-color: white;}#sk-container-id-2 pre{padding: 0;}#sk-container-id-2 div.sk-toggleable {background-color: white;}#sk-container-id-2 label.sk-toggleable__label {cursor: pointer;display: block;width: 100%;margin-bottom: 0;padding: 0.3em;box-sizing: border-box;text-align: center;}#sk-container-id-2 label.sk-toggleable__label-arrow:before {content: \"▸\";float: left;margin-right: 0.25em;color: #696969;}#sk-container-id-2 label.sk-toggleable__label-arrow:hover:before {color: black;}#sk-container-id-2 div.sk-estimator:hover label.sk-toggleable__label-arrow:before {color: black;}#sk-container-id-2 div.sk-toggleable__content {max-height: 0;max-width: 0;overflow: hidden;text-align: left;background-color: #f0f8ff;}#sk-container-id-2 div.sk-toggleable__content pre {margin: 0.2em;color: black;border-radius: 0.25em;background-color: #f0f8ff;}#sk-container-id-2 input.sk-toggleable__control:checked~div.sk-toggleable__content {max-height: 200px;max-width: 100%;overflow: auto;}#sk-container-id-2 input.sk-toggleable__control:checked~label.sk-toggleable__label-arrow:before {content: \"▾\";}#sk-container-id-2 div.sk-estimator input.sk-toggleable__control:checked~label.sk-toggleable__label {background-color: #d4ebff;}#sk-container-id-2 div.sk-label input.sk-toggleable__control:checked~label.sk-toggleable__label {background-color: #d4ebff;}#sk-container-id-2 input.sk-hidden--visually {border: 0;clip: rect(1px 1px 1px 1px);clip: rect(1px, 1px, 1px, 1px);height: 1px;margin: -1px;overflow: hidden;padding: 0;position: absolute;width: 1px;}#sk-container-id-2 div.sk-estimator {font-family: monospace;background-color: #f0f8ff;border: 1px dotted black;border-radius: 0.25em;box-sizing: border-box;margin-bottom: 0.5em;}#sk-container-id-2 div.sk-estimator:hover {background-color: #d4ebff;}#sk-container-id-2 div.sk-parallel-item::after {content: \"\";width: 100%;border-bottom: 1px solid gray;flex-grow: 1;}#sk-container-id-2 div.sk-label:hover label.sk-toggleable__label {background-color: #d4ebff;}#sk-container-id-2 div.sk-serial::before {content: \"\";position: absolute;border-left: 1px solid gray;box-sizing: border-box;top: 0;bottom: 0;left: 50%;z-index: 0;}#sk-container-id-2 div.sk-serial {display: flex;flex-direction: column;align-items: center;background-color: white;padding-right: 0.2em;padding-left: 0.2em;position: relative;}#sk-container-id-2 div.sk-item {position: relative;z-index: 1;}#sk-container-id-2 div.sk-parallel {display: flex;align-items: stretch;justify-content: center;background-color: white;position: relative;}#sk-container-id-2 div.sk-item::before, #sk-container-id-2 div.sk-parallel-item::before {content: \"\";position: absolute;border-left: 1px solid gray;box-sizing: border-box;top: 0;bottom: 0;left: 50%;z-index: -1;}#sk-container-id-2 div.sk-parallel-item {display: flex;flex-direction: column;z-index: 1;position: relative;background-color: white;}#sk-container-id-2 div.sk-parallel-item:first-child::after {align-self: flex-end;width: 50%;}#sk-container-id-2 div.sk-parallel-item:last-child::after {align-self: flex-start;width: 50%;}#sk-container-id-2 div.sk-parallel-item:only-child::after {width: 0;}#sk-container-id-2 div.sk-dashed-wrapped {border: 1px dashed gray;margin: 0 0.4em 0.5em 0.4em;box-sizing: border-box;padding-bottom: 0.4em;background-color: white;}#sk-container-id-2 div.sk-label label {font-family: monospace;font-weight: bold;display: inline-block;line-height: 1.2em;}#sk-container-id-2 div.sk-label-container {text-align: center;}#sk-container-id-2 div.sk-container {/* jupyter's `normalize.less` sets `[hidden] { display: none; }` but bootstrap.min.css set `[hidden] { display: none !important; }` so we also need the `!important` here to be able to override the default hidden behavior on the sphinx rendered scikit-learn.org. See: https://github.com/scikit-learn/scikit-learn/issues/21755 */display: inline-block !important;position: relative;}#sk-container-id-2 div.sk-text-repr-fallback {display: none;}</style><div id=\"sk-container-id-2\" class=\"sk-top-container\"><div class=\"sk-text-repr-fallback\"><pre>DecisionTreeClassifier()</pre><b>In a Jupyter environment, please rerun this cell to show the HTML representation or trust the notebook. <br />On GitHub, the HTML representation is unable to render, please try loading this page with nbviewer.org.</b></div><div class=\"sk-container\" hidden><div class=\"sk-item\"><div class=\"sk-estimator sk-toggleable\"><input class=\"sk-toggleable__control sk-hidden--visually\" id=\"sk-estimator-id-2\" type=\"checkbox\" checked><label for=\"sk-estimator-id-2\" class=\"sk-toggleable__label sk-toggleable__label-arrow\">DecisionTreeClassifier</label><div class=\"sk-toggleable__content\"><pre>DecisionTreeClassifier()</pre></div></div></div></div></div>"
      ],
      "text/plain": [
       "DecisionTreeClassifier()"
      ]
     },
     "execution_count": 34,
     "metadata": {},
     "output_type": "execute_result"
    }
   ],
   "source": [
    "from sklearn.tree import DecisionTreeClassifier\n",
    "\n",
    "\n",
    "DT = DecisionTreeClassifier()\n",
    "DT.fit(xv_train,y_train)\n"
   ]
  },
  {
   "cell_type": "code",
   "execution_count": 35,
   "id": "cf10afb9",
   "metadata": {
    "execution": {
     "iopub.execute_input": "2024-05-17T10:09:47.739013Z",
     "iopub.status.busy": "2024-05-17T10:09:47.738355Z",
     "iopub.status.idle": "2024-05-17T10:09:47.821691Z",
     "shell.execute_reply": "2024-05-17T10:09:47.820516Z"
    },
    "papermill": {
     "duration": 0.102993,
     "end_time": "2024-05-17T10:09:47.824256",
     "exception": false,
     "start_time": "2024-05-17T10:09:47.721263",
     "status": "completed"
    },
    "tags": []
   },
   "outputs": [
    {
     "data": {
      "text/plain": [
       "0.9950089126559715"
      ]
     },
     "execution_count": 35,
     "metadata": {},
     "output_type": "execute_result"
    }
   ],
   "source": [
    "pred_dt = DT.predict(xv_test)\n",
    "DT.score(xv_test, y_test)"
   ]
  },
  {
   "cell_type": "code",
   "execution_count": 36,
   "id": "7e9dd327",
   "metadata": {
    "execution": {
     "iopub.execute_input": "2024-05-17T10:09:47.860870Z",
     "iopub.status.busy": "2024-05-17T10:09:47.859789Z",
     "iopub.status.idle": "2024-05-17T10:09:47.895342Z",
     "shell.execute_reply": "2024-05-17T10:09:47.894176Z"
    },
    "papermill": {
     "duration": 0.05675,
     "end_time": "2024-05-17T10:09:47.898152",
     "exception": false,
     "start_time": "2024-05-17T10:09:47.841402",
     "status": "completed"
    },
    "tags": []
   },
   "outputs": [
    {
     "name": "stdout",
     "output_type": "stream",
     "text": [
      "              precision    recall  f1-score   support\n",
      "\n",
      "           0       0.99      1.00      1.00      5786\n",
      "           1       1.00      0.99      0.99      5434\n",
      "\n",
      "    accuracy                           1.00     11220\n",
      "   macro avg       1.00      0.99      1.00     11220\n",
      "weighted avg       1.00      1.00      1.00     11220\n",
      "\n"
     ]
    }
   ],
   "source": [
    "print(classification_report(y_test, pred_dt))"
   ]
  },
  {
   "cell_type": "markdown",
   "id": "0b6d76a9",
   "metadata": {
    "papermill": {
     "duration": 0.015522,
     "end_time": "2024-05-17T10:09:47.930126",
     "exception": false,
     "start_time": "2024-05-17T10:09:47.914604",
     "status": "completed"
    },
    "tags": []
   },
   "source": [
    "## Gradient Boosting Classifier"
   ]
  },
  {
   "cell_type": "code",
   "execution_count": 37,
   "id": "59ea62f5",
   "metadata": {
    "execution": {
     "iopub.execute_input": "2024-05-17T10:09:47.968930Z",
     "iopub.status.busy": "2024-05-17T10:09:47.968099Z",
     "iopub.status.idle": "2024-05-17T10:14:41.047248Z",
     "shell.execute_reply": "2024-05-17T10:14:41.045766Z"
    },
    "papermill": {
     "duration": 293.117487,
     "end_time": "2024-05-17T10:14:41.067945",
     "exception": false,
     "start_time": "2024-05-17T10:09:47.950458",
     "status": "completed"
    },
    "tags": []
   },
   "outputs": [
    {
     "data": {
      "text/html": [
       "<style>#sk-container-id-3 {color: black;background-color: white;}#sk-container-id-3 pre{padding: 0;}#sk-container-id-3 div.sk-toggleable {background-color: white;}#sk-container-id-3 label.sk-toggleable__label {cursor: pointer;display: block;width: 100%;margin-bottom: 0;padding: 0.3em;box-sizing: border-box;text-align: center;}#sk-container-id-3 label.sk-toggleable__label-arrow:before {content: \"▸\";float: left;margin-right: 0.25em;color: #696969;}#sk-container-id-3 label.sk-toggleable__label-arrow:hover:before {color: black;}#sk-container-id-3 div.sk-estimator:hover label.sk-toggleable__label-arrow:before {color: black;}#sk-container-id-3 div.sk-toggleable__content {max-height: 0;max-width: 0;overflow: hidden;text-align: left;background-color: #f0f8ff;}#sk-container-id-3 div.sk-toggleable__content pre {margin: 0.2em;color: black;border-radius: 0.25em;background-color: #f0f8ff;}#sk-container-id-3 input.sk-toggleable__control:checked~div.sk-toggleable__content {max-height: 200px;max-width: 100%;overflow: auto;}#sk-container-id-3 input.sk-toggleable__control:checked~label.sk-toggleable__label-arrow:before {content: \"▾\";}#sk-container-id-3 div.sk-estimator input.sk-toggleable__control:checked~label.sk-toggleable__label {background-color: #d4ebff;}#sk-container-id-3 div.sk-label input.sk-toggleable__control:checked~label.sk-toggleable__label {background-color: #d4ebff;}#sk-container-id-3 input.sk-hidden--visually {border: 0;clip: rect(1px 1px 1px 1px);clip: rect(1px, 1px, 1px, 1px);height: 1px;margin: -1px;overflow: hidden;padding: 0;position: absolute;width: 1px;}#sk-container-id-3 div.sk-estimator {font-family: monospace;background-color: #f0f8ff;border: 1px dotted black;border-radius: 0.25em;box-sizing: border-box;margin-bottom: 0.5em;}#sk-container-id-3 div.sk-estimator:hover {background-color: #d4ebff;}#sk-container-id-3 div.sk-parallel-item::after {content: \"\";width: 100%;border-bottom: 1px solid gray;flex-grow: 1;}#sk-container-id-3 div.sk-label:hover label.sk-toggleable__label {background-color: #d4ebff;}#sk-container-id-3 div.sk-serial::before {content: \"\";position: absolute;border-left: 1px solid gray;box-sizing: border-box;top: 0;bottom: 0;left: 50%;z-index: 0;}#sk-container-id-3 div.sk-serial {display: flex;flex-direction: column;align-items: center;background-color: white;padding-right: 0.2em;padding-left: 0.2em;position: relative;}#sk-container-id-3 div.sk-item {position: relative;z-index: 1;}#sk-container-id-3 div.sk-parallel {display: flex;align-items: stretch;justify-content: center;background-color: white;position: relative;}#sk-container-id-3 div.sk-item::before, #sk-container-id-3 div.sk-parallel-item::before {content: \"\";position: absolute;border-left: 1px solid gray;box-sizing: border-box;top: 0;bottom: 0;left: 50%;z-index: -1;}#sk-container-id-3 div.sk-parallel-item {display: flex;flex-direction: column;z-index: 1;position: relative;background-color: white;}#sk-container-id-3 div.sk-parallel-item:first-child::after {align-self: flex-end;width: 50%;}#sk-container-id-3 div.sk-parallel-item:last-child::after {align-self: flex-start;width: 50%;}#sk-container-id-3 div.sk-parallel-item:only-child::after {width: 0;}#sk-container-id-3 div.sk-dashed-wrapped {border: 1px dashed gray;margin: 0 0.4em 0.5em 0.4em;box-sizing: border-box;padding-bottom: 0.4em;background-color: white;}#sk-container-id-3 div.sk-label label {font-family: monospace;font-weight: bold;display: inline-block;line-height: 1.2em;}#sk-container-id-3 div.sk-label-container {text-align: center;}#sk-container-id-3 div.sk-container {/* jupyter's `normalize.less` sets `[hidden] { display: none; }` but bootstrap.min.css set `[hidden] { display: none !important; }` so we also need the `!important` here to be able to override the default hidden behavior on the sphinx rendered scikit-learn.org. See: https://github.com/scikit-learn/scikit-learn/issues/21755 */display: inline-block !important;position: relative;}#sk-container-id-3 div.sk-text-repr-fallback {display: none;}</style><div id=\"sk-container-id-3\" class=\"sk-top-container\"><div class=\"sk-text-repr-fallback\"><pre>GradientBoostingClassifier(random_state=0)</pre><b>In a Jupyter environment, please rerun this cell to show the HTML representation or trust the notebook. <br />On GitHub, the HTML representation is unable to render, please try loading this page with nbviewer.org.</b></div><div class=\"sk-container\" hidden><div class=\"sk-item\"><div class=\"sk-estimator sk-toggleable\"><input class=\"sk-toggleable__control sk-hidden--visually\" id=\"sk-estimator-id-3\" type=\"checkbox\" checked><label for=\"sk-estimator-id-3\" class=\"sk-toggleable__label sk-toggleable__label-arrow\">GradientBoostingClassifier</label><div class=\"sk-toggleable__content\"><pre>GradientBoostingClassifier(random_state=0)</pre></div></div></div></div></div>"
      ],
      "text/plain": [
       "GradientBoostingClassifier(random_state=0)"
      ]
     },
     "execution_count": 37,
     "metadata": {},
     "output_type": "execute_result"
    }
   ],
   "source": [
    "from sklearn.ensemble import GradientBoostingClassifier\n",
    "\n",
    "GBC = GradientBoostingClassifier(random_state=0)\n",
    "GBC.fit(xv_train, y_train)"
   ]
  },
  {
   "cell_type": "code",
   "execution_count": 38,
   "id": "67209456",
   "metadata": {
    "execution": {
     "iopub.execute_input": "2024-05-17T10:14:41.105904Z",
     "iopub.status.busy": "2024-05-17T10:14:41.105502Z",
     "iopub.status.idle": "2024-05-17T10:14:41.223222Z",
     "shell.execute_reply": "2024-05-17T10:14:41.222285Z"
    },
    "papermill": {
     "duration": 0.140035,
     "end_time": "2024-05-17T10:14:41.225529",
     "exception": false,
     "start_time": "2024-05-17T10:14:41.085494",
     "status": "completed"
    },
    "tags": []
   },
   "outputs": [
    {
     "data": {
      "text/plain": [
       "0.9959893048128342"
      ]
     },
     "execution_count": 38,
     "metadata": {},
     "output_type": "execute_result"
    }
   ],
   "source": [
    "pred_gbc = GBC.predict(xv_test)\n",
    "GBC.score(xv_test, y_test)"
   ]
  },
  {
   "cell_type": "code",
   "execution_count": 39,
   "id": "059c6718",
   "metadata": {
    "execution": {
     "iopub.execute_input": "2024-05-17T10:14:41.261782Z",
     "iopub.status.busy": "2024-05-17T10:14:41.261176Z",
     "iopub.status.idle": "2024-05-17T10:14:41.298715Z",
     "shell.execute_reply": "2024-05-17T10:14:41.297178Z"
    },
    "papermill": {
     "duration": 0.058224,
     "end_time": "2024-05-17T10:14:41.301449",
     "exception": false,
     "start_time": "2024-05-17T10:14:41.243225",
     "status": "completed"
    },
    "tags": []
   },
   "outputs": [
    {
     "name": "stdout",
     "output_type": "stream",
     "text": [
      "              precision    recall  f1-score   support\n",
      "\n",
      "           0       1.00      0.99      1.00      5786\n",
      "           1       0.99      1.00      1.00      5434\n",
      "\n",
      "    accuracy                           1.00     11220\n",
      "   macro avg       1.00      1.00      1.00     11220\n",
      "weighted avg       1.00      1.00      1.00     11220\n",
      "\n"
     ]
    }
   ],
   "source": [
    "print(classification_report(y_test, pred_gbc))"
   ]
  },
  {
   "cell_type": "markdown",
   "id": "beb175ee",
   "metadata": {
    "papermill": {
     "duration": 0.015704,
     "end_time": "2024-05-17T10:14:41.334283",
     "exception": false,
     "start_time": "2024-05-17T10:14:41.318579",
     "status": "completed"
    },
    "tags": []
   },
   "source": [
    "## Random Forest Classifier\n"
   ]
  },
  {
   "cell_type": "code",
   "execution_count": 40,
   "id": "adcf0b79",
   "metadata": {
    "execution": {
     "iopub.execute_input": "2024-05-17T10:14:41.371625Z",
     "iopub.status.busy": "2024-05-17T10:14:41.371177Z",
     "iopub.status.idle": "2024-05-17T10:16:16.496712Z",
     "shell.execute_reply": "2024-05-17T10:16:16.495001Z"
    },
    "papermill": {
     "duration": 95.162394,
     "end_time": "2024-05-17T10:16:16.515815",
     "exception": false,
     "start_time": "2024-05-17T10:14:41.353421",
     "status": "completed"
    },
    "tags": []
   },
   "outputs": [
    {
     "data": {
      "text/html": [
       "<style>#sk-container-id-4 {color: black;background-color: white;}#sk-container-id-4 pre{padding: 0;}#sk-container-id-4 div.sk-toggleable {background-color: white;}#sk-container-id-4 label.sk-toggleable__label {cursor: pointer;display: block;width: 100%;margin-bottom: 0;padding: 0.3em;box-sizing: border-box;text-align: center;}#sk-container-id-4 label.sk-toggleable__label-arrow:before {content: \"▸\";float: left;margin-right: 0.25em;color: #696969;}#sk-container-id-4 label.sk-toggleable__label-arrow:hover:before {color: black;}#sk-container-id-4 div.sk-estimator:hover label.sk-toggleable__label-arrow:before {color: black;}#sk-container-id-4 div.sk-toggleable__content {max-height: 0;max-width: 0;overflow: hidden;text-align: left;background-color: #f0f8ff;}#sk-container-id-4 div.sk-toggleable__content pre {margin: 0.2em;color: black;border-radius: 0.25em;background-color: #f0f8ff;}#sk-container-id-4 input.sk-toggleable__control:checked~div.sk-toggleable__content {max-height: 200px;max-width: 100%;overflow: auto;}#sk-container-id-4 input.sk-toggleable__control:checked~label.sk-toggleable__label-arrow:before {content: \"▾\";}#sk-container-id-4 div.sk-estimator input.sk-toggleable__control:checked~label.sk-toggleable__label {background-color: #d4ebff;}#sk-container-id-4 div.sk-label input.sk-toggleable__control:checked~label.sk-toggleable__label {background-color: #d4ebff;}#sk-container-id-4 input.sk-hidden--visually {border: 0;clip: rect(1px 1px 1px 1px);clip: rect(1px, 1px, 1px, 1px);height: 1px;margin: -1px;overflow: hidden;padding: 0;position: absolute;width: 1px;}#sk-container-id-4 div.sk-estimator {font-family: monospace;background-color: #f0f8ff;border: 1px dotted black;border-radius: 0.25em;box-sizing: border-box;margin-bottom: 0.5em;}#sk-container-id-4 div.sk-estimator:hover {background-color: #d4ebff;}#sk-container-id-4 div.sk-parallel-item::after {content: \"\";width: 100%;border-bottom: 1px solid gray;flex-grow: 1;}#sk-container-id-4 div.sk-label:hover label.sk-toggleable__label {background-color: #d4ebff;}#sk-container-id-4 div.sk-serial::before {content: \"\";position: absolute;border-left: 1px solid gray;box-sizing: border-box;top: 0;bottom: 0;left: 50%;z-index: 0;}#sk-container-id-4 div.sk-serial {display: flex;flex-direction: column;align-items: center;background-color: white;padding-right: 0.2em;padding-left: 0.2em;position: relative;}#sk-container-id-4 div.sk-item {position: relative;z-index: 1;}#sk-container-id-4 div.sk-parallel {display: flex;align-items: stretch;justify-content: center;background-color: white;position: relative;}#sk-container-id-4 div.sk-item::before, #sk-container-id-4 div.sk-parallel-item::before {content: \"\";position: absolute;border-left: 1px solid gray;box-sizing: border-box;top: 0;bottom: 0;left: 50%;z-index: -1;}#sk-container-id-4 div.sk-parallel-item {display: flex;flex-direction: column;z-index: 1;position: relative;background-color: white;}#sk-container-id-4 div.sk-parallel-item:first-child::after {align-self: flex-end;width: 50%;}#sk-container-id-4 div.sk-parallel-item:last-child::after {align-self: flex-start;width: 50%;}#sk-container-id-4 div.sk-parallel-item:only-child::after {width: 0;}#sk-container-id-4 div.sk-dashed-wrapped {border: 1px dashed gray;margin: 0 0.4em 0.5em 0.4em;box-sizing: border-box;padding-bottom: 0.4em;background-color: white;}#sk-container-id-4 div.sk-label label {font-family: monospace;font-weight: bold;display: inline-block;line-height: 1.2em;}#sk-container-id-4 div.sk-label-container {text-align: center;}#sk-container-id-4 div.sk-container {/* jupyter's `normalize.less` sets `[hidden] { display: none; }` but bootstrap.min.css set `[hidden] { display: none !important; }` so we also need the `!important` here to be able to override the default hidden behavior on the sphinx rendered scikit-learn.org. See: https://github.com/scikit-learn/scikit-learn/issues/21755 */display: inline-block !important;position: relative;}#sk-container-id-4 div.sk-text-repr-fallback {display: none;}</style><div id=\"sk-container-id-4\" class=\"sk-top-container\"><div class=\"sk-text-repr-fallback\"><pre>RandomForestClassifier(random_state=0)</pre><b>In a Jupyter environment, please rerun this cell to show the HTML representation or trust the notebook. <br />On GitHub, the HTML representation is unable to render, please try loading this page with nbviewer.org.</b></div><div class=\"sk-container\" hidden><div class=\"sk-item\"><div class=\"sk-estimator sk-toggleable\"><input class=\"sk-toggleable__control sk-hidden--visually\" id=\"sk-estimator-id-4\" type=\"checkbox\" checked><label for=\"sk-estimator-id-4\" class=\"sk-toggleable__label sk-toggleable__label-arrow\">RandomForestClassifier</label><div class=\"sk-toggleable__content\"><pre>RandomForestClassifier(random_state=0)</pre></div></div></div></div></div>"
      ],
      "text/plain": [
       "RandomForestClassifier(random_state=0)"
      ]
     },
     "execution_count": 40,
     "metadata": {},
     "output_type": "execute_result"
    }
   ],
   "source": [
    "from sklearn.ensemble import RandomForestClassifier\n",
    "\n",
    "RFC = RandomForestClassifier(random_state=0)\n",
    "RFC.fit(xv_train, y_train)"
   ]
  },
  {
   "cell_type": "code",
   "execution_count": 41,
   "id": "42304009",
   "metadata": {
    "execution": {
     "iopub.execute_input": "2024-05-17T10:16:16.554407Z",
     "iopub.status.busy": "2024-05-17T10:16:16.553914Z",
     "iopub.status.idle": "2024-05-17T10:16:19.367470Z",
     "shell.execute_reply": "2024-05-17T10:16:19.366183Z"
    },
    "papermill": {
     "duration": 2.835995,
     "end_time": "2024-05-17T10:16:19.370223",
     "exception": false,
     "start_time": "2024-05-17T10:16:16.534228",
     "status": "completed"
    },
    "tags": []
   },
   "outputs": [
    {
     "data": {
      "text/plain": [
       "0.9934046345811052"
      ]
     },
     "execution_count": 41,
     "metadata": {},
     "output_type": "execute_result"
    }
   ],
   "source": [
    "pred_rfc = RFC.predict(xv_test)\n",
    "RFC.score(xv_test, y_test)"
   ]
  },
  {
   "cell_type": "code",
   "execution_count": 42,
   "id": "defbbd07",
   "metadata": {
    "execution": {
     "iopub.execute_input": "2024-05-17T10:16:19.407898Z",
     "iopub.status.busy": "2024-05-17T10:16:19.407343Z",
     "iopub.status.idle": "2024-05-17T10:16:19.442491Z",
     "shell.execute_reply": "2024-05-17T10:16:19.440607Z"
    },
    "papermill": {
     "duration": 0.057312,
     "end_time": "2024-05-17T10:16:19.445165",
     "exception": false,
     "start_time": "2024-05-17T10:16:19.387853",
     "status": "completed"
    },
    "tags": []
   },
   "outputs": [
    {
     "name": "stdout",
     "output_type": "stream",
     "text": [
      "              precision    recall  f1-score   support\n",
      "\n",
      "           0       0.99      0.99      0.99      5786\n",
      "           1       0.99      0.99      0.99      5434\n",
      "\n",
      "    accuracy                           0.99     11220\n",
      "   macro avg       0.99      0.99      0.99     11220\n",
      "weighted avg       0.99      0.99      0.99     11220\n",
      "\n"
     ]
    }
   ],
   "source": [
    "print(classification_report(y_test, pred_rfc))"
   ]
  },
  {
   "cell_type": "code",
   "execution_count": 43,
   "id": "2b4b587f",
   "metadata": {
    "execution": {
     "iopub.execute_input": "2024-05-17T10:16:19.481317Z",
     "iopub.status.busy": "2024-05-17T10:16:19.480885Z",
     "iopub.status.idle": "2024-05-17T10:16:19.487562Z",
     "shell.execute_reply": "2024-05-17T10:16:19.485755Z"
    },
    "papermill": {
     "duration": 0.028393,
     "end_time": "2024-05-17T10:16:19.490070",
     "exception": false,
     "start_time": "2024-05-17T10:16:19.461677",
     "status": "completed"
    },
    "tags": []
   },
   "outputs": [],
   "source": [
    "def output_lable(n):\n",
    "    if n == 0:\n",
    "        return \"Fake News\"\n",
    "    elif n == 1:\n",
    "        return \"Not A Fake News\""
   ]
  },
  {
   "cell_type": "code",
   "execution_count": 44,
   "id": "460314e4",
   "metadata": {
    "execution": {
     "iopub.execute_input": "2024-05-17T10:16:19.528113Z",
     "iopub.status.busy": "2024-05-17T10:16:19.527327Z",
     "iopub.status.idle": "2024-05-17T10:16:19.536976Z",
     "shell.execute_reply": "2024-05-17T10:16:19.535134Z"
    },
    "papermill": {
     "duration": 0.031033,
     "end_time": "2024-05-17T10:16:19.539493",
     "exception": false,
     "start_time": "2024-05-17T10:16:19.508460",
     "status": "completed"
    },
    "tags": []
   },
   "outputs": [],
   "source": [
    "def manual_testing(news):\n",
    "    testing_news = {\"text\":[news]}\n",
    "    new_def_test = pd.DataFrame(testing_news)\n",
    "    new_def_test[\"text\"] = new_def_test[\"text\"].apply(preprocess) \n",
    "    new_x_test = new_def_test[\"text\"]\n",
    "    new_xv_test = vectorization.transform(new_x_test)\n",
    "    pred_LR = LR.predict(new_xv_test)\n",
    "    pred_DT = DT.predict(new_xv_test)\n",
    "    pred_GBC = GBC.predict(new_xv_test)\n",
    "    pred_RFC = RFC.predict(new_xv_test)\n",
    "\n",
    "    return print(\"\\n\\nLR Prediction: {} \\nDT Prediction: {} \\nGBC Prediction: {} \\nRFC Prediction: {}\".format(output_lable(pred_LR[0]),                                                                                                       output_lable(pred_DT[0]), \n",
    "                                                                                                              output_lable(pred_GBC[0]), \n",
    "                                                                                                              output_lable(pred_RFC[0])))"
   ]
  },
  {
   "cell_type": "code",
   "execution_count": 45,
   "id": "5fd3418b",
   "metadata": {
    "execution": {
     "iopub.execute_input": "2024-05-17T10:16:19.576529Z",
     "iopub.status.busy": "2024-05-17T10:16:19.576089Z",
     "iopub.status.idle": "2024-05-17T10:16:19.604872Z",
     "shell.execute_reply": "2024-05-17T10:16:19.603556Z"
    },
    "papermill": {
     "duration": 0.050057,
     "end_time": "2024-05-17T10:16:19.607461",
     "exception": false,
     "start_time": "2024-05-17T10:16:19.557404",
     "status": "completed"
    },
    "tags": []
   },
   "outputs": [
    {
     "name": "stdout",
     "output_type": "stream",
     "text": [
      "\n",
      "\n",
      "LR Prediction: Not A Fake News \n",
      "DT Prediction: Not A Fake News \n",
      "GBC Prediction: Not A Fake News \n",
      "RFC Prediction: Not A Fake News\n"
     ]
    }
   ],
   "source": [
    "# news = str(input())\n",
    "news = '''MOSCOW (Reuters) - Russiaâ€™s former ambassador to Washington, Sergei Kislyak,\n",
    "said on Saturday his conversations with former White House national security adviser Michael Flynn had been \n",
    "transparent and focused on matters of U.S.-Russia cooperation. Kislyak ended his tenure in Washington in July \n",
    "but remains a key figure in ongoing U.S. investigations into Moscowâ€™s alleged meddling in the 2016 presidential election.\n",
    "Flynn was forced to resign in February after it became known that he had failed to disclose the content of \n",
    "conversations he had with Kislyak and misled U.S. Vice-President Mike Pence about their meetings. â€œWe only \n",
    "spoke about the most simple things ... but the communication was completely correct, calm, absolutely transparent.\n",
    "In any case, there were no secrets on our side,â€ Kislyak said during a panel discussion on Russian television. â€œThere are a number of issues which are important for cooperation between Russia and the United States - most of all, terrorism. And that was one of the things we discussed\n",
    "'''\n",
    "manual_testing(news)"
   ]
  },
  {
   "cell_type": "code",
   "execution_count": 46,
   "id": "7d1e801f",
   "metadata": {
    "execution": {
     "iopub.execute_input": "2024-05-17T10:16:19.649258Z",
     "iopub.status.busy": "2024-05-17T10:16:19.648867Z",
     "iopub.status.idle": "2024-05-17T10:16:19.671355Z",
     "shell.execute_reply": "2024-05-17T10:16:19.669339Z"
    },
    "papermill": {
     "duration": 0.047396,
     "end_time": "2024-05-17T10:16:19.674791",
     "exception": false,
     "start_time": "2024-05-17T10:16:19.627395",
     "status": "completed"
    },
    "tags": []
   },
   "outputs": [
    {
     "name": "stdout",
     "output_type": "stream",
     "text": [
      "\n",
      "\n",
      "LR Prediction: Fake News \n",
      "DT Prediction: Fake News \n",
      "GBC Prediction: Fake News \n",
      "RFC Prediction: Fake News\n"
     ]
    }
   ],
   "source": [
    "# news = str(input())\n",
    "news = '''Hey Facebook, As some of you may know, I'm Bill Gates. If you click that share link, I will give you $5,000. I always deliver, I mean, I brought you Windows XP, right?'''\n",
    "manual_testing(news)"
   ]
  },
  {
   "cell_type": "markdown",
   "id": "f5102688",
   "metadata": {
    "papermill": {
     "duration": 0.0175,
     "end_time": "2024-05-17T10:16:19.710181",
     "exception": false,
     "start_time": "2024-05-17T10:16:19.692681",
     "status": "completed"
    },
    "tags": []
   },
   "source": [
    "# Thanks for coming here.\n",
    "#### If you find it useful upvote me "
   ]
  },
  {
   "cell_type": "code",
   "execution_count": null,
   "id": "9b345b1c",
   "metadata": {
    "papermill": {
     "duration": 0.018615,
     "end_time": "2024-05-17T10:16:19.747512",
     "exception": false,
     "start_time": "2024-05-17T10:16:19.728897",
     "status": "completed"
    },
    "tags": []
   },
   "outputs": [],
   "source": []
  }
 ],
 "metadata": {
  "kaggle": {
   "accelerator": "none",
   "dataSources": [
    {
     "datasetId": 4831777,
     "sourceId": 8165591,
     "sourceType": "datasetVersion"
    }
   ],
   "dockerImageVersionId": 30698,
   "isGpuEnabled": false,
   "isInternetEnabled": true,
   "language": "python",
   "sourceType": "notebook"
  },
  "kernelspec": {
   "display_name": "Python 3",
   "language": "python",
   "name": "python3"
  },
  "language_info": {
   "codemirror_mode": {
    "name": "ipython",
    "version": 3
   },
   "file_extension": ".py",
   "mimetype": "text/x-python",
   "name": "python",
   "nbconvert_exporter": "python",
   "pygments_lexer": "ipython3",
   "version": "3.10.13"
  },
  "papermill": {
   "default_parameters": {},
   "duration": 494.067793,
   "end_time": "2024-05-17T10:16:20.695710",
   "environment_variables": {},
   "exception": null,
   "input_path": "__notebook__.ipynb",
   "output_path": "__notebook__.ipynb",
   "parameters": {},
   "start_time": "2024-05-17T10:08:06.627917",
   "version": "2.5.0"
  }
 },
 "nbformat": 4,
 "nbformat_minor": 5
}
